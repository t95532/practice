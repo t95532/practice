{
 "cells": [
  {
   "cell_type": "code",
   "execution_count": 1,
   "id": "b58afec6",
   "metadata": {
    "_cell_guid": "b1076dfc-b9ad-4769-8c92-a6c4dae69d19",
    "_uuid": "8f2839f25d086af736a60e9eeb907d3b93b6e0e5",
    "execution": {
     "iopub.execute_input": "2023-06-18T12:29:48.188376Z",
     "iopub.status.busy": "2023-06-18T12:29:48.187719Z",
     "iopub.status.idle": "2023-06-18T12:29:48.214293Z",
     "shell.execute_reply": "2023-06-18T12:29:48.212942Z"
    },
    "papermill": {
     "duration": 0.048919,
     "end_time": "2023-06-18T12:29:48.218469",
     "exception": false,
     "start_time": "2023-06-18T12:29:48.169550",
     "status": "completed"
    },
    "tags": []
   },
   "outputs": [
    {
     "name": "stdout",
     "output_type": "stream",
     "text": [
      "/kaggle/input/symptom2disease/Symptom2Disease.csv\n"
     ]
    }
   ],
   "source": [
    "# This Python 3 environment comes with many helpful analytics libraries installed\n",
    "# It is defined by the kaggle/python Docker image: https://github.com/kaggle/docker-python\n",
    "# For example, here's several helpful packages to load\n",
    "\n",
    "import numpy as np # linear algebra\n",
    "import pandas as pd # data processing, CSV file I/O (e.g. pd.read_csv)\n",
    "\n",
    "# Input data files are available in the read-only \"../input/\" directory\n",
    "# For example, running this (by clicking run or pressing Shift+Enter) will list all files under the input directory\n",
    "\n",
    "import os\n",
    "for dirname, _, filenames in os.walk('/kaggle/input'):\n",
    "    for filename in filenames:\n",
    "        print(os.path.join(dirname, filename))\n",
    "\n",
    "# You can write up to 20GB to the current directory (/kaggle/working/) that gets preserved as output when you create a version using \"Save & Run All\" \n",
    "# You can also write temporary files to /kaggle/temp/, but they won't be saved outside of the current session"
   ]
  },
  {
   "cell_type": "code",
   "execution_count": 2,
   "id": "c2d6be3f",
   "metadata": {
    "execution": {
     "iopub.execute_input": "2023-06-18T12:29:48.253699Z",
     "iopub.status.busy": "2023-06-18T12:29:48.253242Z",
     "iopub.status.idle": "2023-06-18T12:29:48.288603Z",
     "shell.execute_reply": "2023-06-18T12:29:48.287460Z"
    },
    "papermill": {
     "duration": 0.056658,
     "end_time": "2023-06-18T12:29:48.291957",
     "exception": false,
     "start_time": "2023-06-18T12:29:48.235299",
     "status": "completed"
    },
    "tags": []
   },
   "outputs": [],
   "source": [
    "data = pd.read_csv('/kaggle/input/symptom2disease/Symptom2Disease.csv')"
   ]
  },
  {
   "cell_type": "code",
   "execution_count": 3,
   "id": "f6f3d2c7",
   "metadata": {
    "execution": {
     "iopub.execute_input": "2023-06-18T12:29:48.327149Z",
     "iopub.status.busy": "2023-06-18T12:29:48.326652Z",
     "iopub.status.idle": "2023-06-18T12:29:48.365846Z",
     "shell.execute_reply": "2023-06-18T12:29:48.364394Z"
    },
    "papermill": {
     "duration": 0.061197,
     "end_time": "2023-06-18T12:29:48.368952",
     "exception": false,
     "start_time": "2023-06-18T12:29:48.307755",
     "status": "completed"
    },
    "tags": []
   },
   "outputs": [
    {
     "data": {
      "text/html": [
       "<div>\n",
       "<style scoped>\n",
       "    .dataframe tbody tr th:only-of-type {\n",
       "        vertical-align: middle;\n",
       "    }\n",
       "\n",
       "    .dataframe tbody tr th {\n",
       "        vertical-align: top;\n",
       "    }\n",
       "\n",
       "    .dataframe thead th {\n",
       "        text-align: right;\n",
       "    }\n",
       "</style>\n",
       "<table border=\"1\" class=\"dataframe\">\n",
       "  <thead>\n",
       "    <tr style=\"text-align: right;\">\n",
       "      <th></th>\n",
       "      <th>Unnamed: 0</th>\n",
       "      <th>label</th>\n",
       "      <th>text</th>\n",
       "    </tr>\n",
       "  </thead>\n",
       "  <tbody>\n",
       "    <tr>\n",
       "      <th>0</th>\n",
       "      <td>0</td>\n",
       "      <td>Psoriasis</td>\n",
       "      <td>I have been experiencing a skin rash on my arm...</td>\n",
       "    </tr>\n",
       "    <tr>\n",
       "      <th>1</th>\n",
       "      <td>1</td>\n",
       "      <td>Psoriasis</td>\n",
       "      <td>My skin has been peeling, especially on my kne...</td>\n",
       "    </tr>\n",
       "    <tr>\n",
       "      <th>2</th>\n",
       "      <td>2</td>\n",
       "      <td>Psoriasis</td>\n",
       "      <td>I have been experiencing joint pain in my fing...</td>\n",
       "    </tr>\n",
       "    <tr>\n",
       "      <th>3</th>\n",
       "      <td>3</td>\n",
       "      <td>Psoriasis</td>\n",
       "      <td>There is a silver like dusting on my skin, esp...</td>\n",
       "    </tr>\n",
       "    <tr>\n",
       "      <th>4</th>\n",
       "      <td>4</td>\n",
       "      <td>Psoriasis</td>\n",
       "      <td>My nails have small dents or pits in them, and...</td>\n",
       "    </tr>\n",
       "    <tr>\n",
       "      <th>...</th>\n",
       "      <td>...</td>\n",
       "      <td>...</td>\n",
       "      <td>...</td>\n",
       "    </tr>\n",
       "    <tr>\n",
       "      <th>1195</th>\n",
       "      <td>295</td>\n",
       "      <td>diabetes</td>\n",
       "      <td>I'm shaking and trembling all over. I've lost ...</td>\n",
       "    </tr>\n",
       "    <tr>\n",
       "      <th>1196</th>\n",
       "      <td>296</td>\n",
       "      <td>diabetes</td>\n",
       "      <td>Particularly in the crevices of my skin, I hav...</td>\n",
       "    </tr>\n",
       "    <tr>\n",
       "      <th>1197</th>\n",
       "      <td>297</td>\n",
       "      <td>diabetes</td>\n",
       "      <td>I regularly experience these intense urges and...</td>\n",
       "    </tr>\n",
       "    <tr>\n",
       "      <th>1198</th>\n",
       "      <td>298</td>\n",
       "      <td>diabetes</td>\n",
       "      <td>I have trouble breathing, especially outside. ...</td>\n",
       "    </tr>\n",
       "    <tr>\n",
       "      <th>1199</th>\n",
       "      <td>299</td>\n",
       "      <td>diabetes</td>\n",
       "      <td>I constantly sneeze and have a dry cough. My i...</td>\n",
       "    </tr>\n",
       "  </tbody>\n",
       "</table>\n",
       "<p>1200 rows × 3 columns</p>\n",
       "</div>"
      ],
      "text/plain": [
       "      Unnamed: 0      label                                               text\n",
       "0              0  Psoriasis  I have been experiencing a skin rash on my arm...\n",
       "1              1  Psoriasis  My skin has been peeling, especially on my kne...\n",
       "2              2  Psoriasis  I have been experiencing joint pain in my fing...\n",
       "3              3  Psoriasis  There is a silver like dusting on my skin, esp...\n",
       "4              4  Psoriasis  My nails have small dents or pits in them, and...\n",
       "...          ...        ...                                                ...\n",
       "1195         295   diabetes  I'm shaking and trembling all over. I've lost ...\n",
       "1196         296   diabetes  Particularly in the crevices of my skin, I hav...\n",
       "1197         297   diabetes  I regularly experience these intense urges and...\n",
       "1198         298   diabetes  I have trouble breathing, especially outside. ...\n",
       "1199         299   diabetes  I constantly sneeze and have a dry cough. My i...\n",
       "\n",
       "[1200 rows x 3 columns]"
      ]
     },
     "execution_count": 3,
     "metadata": {},
     "output_type": "execute_result"
    }
   ],
   "source": [
    "data"
   ]
  },
  {
   "cell_type": "code",
   "execution_count": 4,
   "id": "7a2ee668",
   "metadata": {
    "execution": {
     "iopub.execute_input": "2023-06-18T12:29:48.402819Z",
     "iopub.status.busy": "2023-06-18T12:29:48.402167Z",
     "iopub.status.idle": "2023-06-18T12:29:48.415977Z",
     "shell.execute_reply": "2023-06-18T12:29:48.414535Z"
    },
    "papermill": {
     "duration": 0.034516,
     "end_time": "2023-06-18T12:29:48.419262",
     "exception": false,
     "start_time": "2023-06-18T12:29:48.384746",
     "status": "completed"
    },
    "tags": []
   },
   "outputs": [],
   "source": [
    "data.drop(['Unnamed: 0'], axis=1, inplace=True)"
   ]
  },
  {
   "cell_type": "code",
   "execution_count": 5,
   "id": "07803900",
   "metadata": {
    "execution": {
     "iopub.execute_input": "2023-06-18T12:29:48.455097Z",
     "iopub.status.busy": "2023-06-18T12:29:48.454353Z",
     "iopub.status.idle": "2023-06-18T12:29:48.467754Z",
     "shell.execute_reply": "2023-06-18T12:29:48.466801Z"
    },
    "papermill": {
     "duration": 0.035663,
     "end_time": "2023-06-18T12:29:48.470925",
     "exception": false,
     "start_time": "2023-06-18T12:29:48.435262",
     "status": "completed"
    },
    "tags": []
   },
   "outputs": [
    {
     "data": {
      "text/plain": [
       "47"
      ]
     },
     "execution_count": 5,
     "metadata": {},
     "output_type": "execute_result"
    }
   ],
   "source": [
    "data.duplicated().sum()"
   ]
  },
  {
   "cell_type": "code",
   "execution_count": 6,
   "id": "b2839515",
   "metadata": {
    "execution": {
     "iopub.execute_input": "2023-06-18T12:29:48.508159Z",
     "iopub.status.busy": "2023-06-18T12:29:48.506817Z",
     "iopub.status.idle": "2023-06-18T12:29:48.515111Z",
     "shell.execute_reply": "2023-06-18T12:29:48.513652Z"
    },
    "papermill": {
     "duration": 0.030166,
     "end_time": "2023-06-18T12:29:48.518586",
     "exception": false,
     "start_time": "2023-06-18T12:29:48.488420",
     "status": "completed"
    },
    "tags": []
   },
   "outputs": [],
   "source": [
    "data = data.drop_duplicates()"
   ]
  },
  {
   "cell_type": "code",
   "execution_count": 7,
   "id": "3b5400b7",
   "metadata": {
    "execution": {
     "iopub.execute_input": "2023-06-18T12:29:48.554634Z",
     "iopub.status.busy": "2023-06-18T12:29:48.554249Z",
     "iopub.status.idle": "2023-06-18T12:29:48.562197Z",
     "shell.execute_reply": "2023-06-18T12:29:48.560838Z"
    },
    "papermill": {
     "duration": 0.030139,
     "end_time": "2023-06-18T12:29:48.565584",
     "exception": false,
     "start_time": "2023-06-18T12:29:48.535445",
     "status": "completed"
    },
    "tags": []
   },
   "outputs": [
    {
     "data": {
      "text/plain": [
       "(1153, 2)"
      ]
     },
     "execution_count": 7,
     "metadata": {},
     "output_type": "execute_result"
    }
   ],
   "source": [
    "data.shape"
   ]
  },
  {
   "cell_type": "code",
   "execution_count": 8,
   "id": "19aa01cb",
   "metadata": {
    "execution": {
     "iopub.execute_input": "2023-06-18T12:29:48.601956Z",
     "iopub.status.busy": "2023-06-18T12:29:48.601566Z",
     "iopub.status.idle": "2023-06-18T12:29:48.613441Z",
     "shell.execute_reply": "2023-06-18T12:29:48.612207Z"
    },
    "papermill": {
     "duration": 0.03347,
     "end_time": "2023-06-18T12:29:48.615938",
     "exception": false,
     "start_time": "2023-06-18T12:29:48.582468",
     "status": "completed"
    },
    "tags": []
   },
   "outputs": [
    {
     "data": {
      "text/html": [
       "<div>\n",
       "<style scoped>\n",
       "    .dataframe tbody tr th:only-of-type {\n",
       "        vertical-align: middle;\n",
       "    }\n",
       "\n",
       "    .dataframe tbody tr th {\n",
       "        vertical-align: top;\n",
       "    }\n",
       "\n",
       "    .dataframe thead th {\n",
       "        text-align: right;\n",
       "    }\n",
       "</style>\n",
       "<table border=\"1\" class=\"dataframe\">\n",
       "  <thead>\n",
       "    <tr style=\"text-align: right;\">\n",
       "      <th></th>\n",
       "      <th>label</th>\n",
       "      <th>text</th>\n",
       "    </tr>\n",
       "  </thead>\n",
       "  <tbody>\n",
       "    <tr>\n",
       "      <th>0</th>\n",
       "      <td>Psoriasis</td>\n",
       "      <td>I have been experiencing a skin rash on my arm...</td>\n",
       "    </tr>\n",
       "    <tr>\n",
       "      <th>1</th>\n",
       "      <td>Psoriasis</td>\n",
       "      <td>My skin has been peeling, especially on my kne...</td>\n",
       "    </tr>\n",
       "    <tr>\n",
       "      <th>2</th>\n",
       "      <td>Psoriasis</td>\n",
       "      <td>I have been experiencing joint pain in my fing...</td>\n",
       "    </tr>\n",
       "    <tr>\n",
       "      <th>3</th>\n",
       "      <td>Psoriasis</td>\n",
       "      <td>There is a silver like dusting on my skin, esp...</td>\n",
       "    </tr>\n",
       "    <tr>\n",
       "      <th>4</th>\n",
       "      <td>Psoriasis</td>\n",
       "      <td>My nails have small dents or pits in them, and...</td>\n",
       "    </tr>\n",
       "  </tbody>\n",
       "</table>\n",
       "</div>"
      ],
      "text/plain": [
       "       label                                               text\n",
       "0  Psoriasis  I have been experiencing a skin rash on my arm...\n",
       "1  Psoriasis  My skin has been peeling, especially on my kne...\n",
       "2  Psoriasis  I have been experiencing joint pain in my fing...\n",
       "3  Psoriasis  There is a silver like dusting on my skin, esp...\n",
       "4  Psoriasis  My nails have small dents or pits in them, and..."
      ]
     },
     "execution_count": 8,
     "metadata": {},
     "output_type": "execute_result"
    }
   ],
   "source": [
    "data.head()"
   ]
  },
  {
   "cell_type": "code",
   "execution_count": 9,
   "id": "4e67407d",
   "metadata": {
    "execution": {
     "iopub.execute_input": "2023-06-18T12:29:48.651489Z",
     "iopub.status.busy": "2023-06-18T12:29:48.650498Z",
     "iopub.status.idle": "2023-06-18T12:29:48.658534Z",
     "shell.execute_reply": "2023-06-18T12:29:48.657050Z"
    },
    "papermill": {
     "duration": 0.028747,
     "end_time": "2023-06-18T12:29:48.660783",
     "exception": false,
     "start_time": "2023-06-18T12:29:48.632036",
     "status": "completed"
    },
    "tags": []
   },
   "outputs": [
    {
     "data": {
      "text/plain": [
       "array(['Psoriasis', 'Varicose Veins', 'Typhoid', 'Chicken pox',\n",
       "       'Impetigo', 'Dengue', 'Fungal infection', 'Common Cold',\n",
       "       'Pneumonia', 'Dimorphic Hemorrhoids', 'Arthritis', 'Acne',\n",
       "       'Bronchial Asthma', 'Hypertension', 'Migraine',\n",
       "       'Cervical spondylosis', 'Jaundice', 'Malaria',\n",
       "       'urinary tract infection', 'allergy',\n",
       "       'gastroesophageal reflux disease', 'drug reaction',\n",
       "       'peptic ulcer disease', 'diabetes'], dtype=object)"
      ]
     },
     "execution_count": 9,
     "metadata": {},
     "output_type": "execute_result"
    }
   ],
   "source": [
    "data['label'].unique()"
   ]
  },
  {
   "cell_type": "code",
   "execution_count": 10,
   "id": "7005f5f7",
   "metadata": {
    "execution": {
     "iopub.execute_input": "2023-06-18T12:29:48.697308Z",
     "iopub.status.busy": "2023-06-18T12:29:48.696228Z",
     "iopub.status.idle": "2023-06-18T12:29:50.333511Z",
     "shell.execute_reply": "2023-06-18T12:29:50.332277Z"
    },
    "papermill": {
     "duration": 1.658529,
     "end_time": "2023-06-18T12:29:50.336907",
     "exception": false,
     "start_time": "2023-06-18T12:29:48.678378",
     "status": "completed"
    },
    "tags": []
   },
   "outputs": [],
   "source": [
    "import seaborn as sns\n",
    "import matplotlib.pyplot as plt"
   ]
  },
  {
   "cell_type": "code",
   "execution_count": 11,
   "id": "b81515fe",
   "metadata": {
    "execution": {
     "iopub.execute_input": "2023-06-18T12:29:50.373564Z",
     "iopub.status.busy": "2023-06-18T12:29:50.373148Z",
     "iopub.status.idle": "2023-06-18T12:29:50.915334Z",
     "shell.execute_reply": "2023-06-18T12:29:50.914086Z"
    },
    "papermill": {
     "duration": 0.563867,
     "end_time": "2023-06-18T12:29:50.918734",
     "exception": false,
     "start_time": "2023-06-18T12:29:50.354867",
     "status": "completed"
    },
    "tags": []
   },
   "outputs": [
    {
     "data": {
      "text/plain": [
       "(array([ 0,  1,  2,  3,  4,  5,  6,  7,  8,  9, 10, 11, 12, 13, 14, 15, 16,\n",
       "        17, 18, 19, 20, 21, 22, 23]),\n",
       " [Text(0, 0, 'Psoriasis'),\n",
       "  Text(1, 0, 'Varicose Veins'),\n",
       "  Text(2, 0, 'Typhoid'),\n",
       "  Text(3, 0, 'Chicken pox'),\n",
       "  Text(4, 0, 'Impetigo'),\n",
       "  Text(5, 0, 'Dengue'),\n",
       "  Text(6, 0, 'Fungal infection'),\n",
       "  Text(7, 0, 'Common Cold'),\n",
       "  Text(8, 0, 'Pneumonia'),\n",
       "  Text(9, 0, 'Dimorphic Hemorrhoids'),\n",
       "  Text(10, 0, 'Arthritis'),\n",
       "  Text(11, 0, 'Acne'),\n",
       "  Text(12, 0, 'Bronchial Asthma'),\n",
       "  Text(13, 0, 'Hypertension'),\n",
       "  Text(14, 0, 'Migraine'),\n",
       "  Text(15, 0, 'Cervical spondylosis'),\n",
       "  Text(16, 0, 'Jaundice'),\n",
       "  Text(17, 0, 'Malaria'),\n",
       "  Text(18, 0, 'urinary tract infection'),\n",
       "  Text(19, 0, 'allergy'),\n",
       "  Text(20, 0, 'gastroesophageal reflux disease'),\n",
       "  Text(21, 0, 'drug reaction'),\n",
       "  Text(22, 0, 'peptic ulcer disease'),\n",
       "  Text(23, 0, 'diabetes')])"
      ]
     },
     "execution_count": 11,
     "metadata": {},
     "output_type": "execute_result"
    },
    {
     "data": {
      "image/png": "[encoded data removed]",
      "text/plain": [
       "<Figure size 640x480 with 1 Axes>"
      ]
     },
     "metadata": {},
     "output_type": "display_data"
    }
   ],
   "source": [
    "sns.countplot(x='label', data=data)\n",
    "plt.xticks(rotation=90)"
   ]
  },
  {
   "cell_type": "code",
   "execution_count": 12,
   "id": "aae2d4cf",
   "metadata": {
    "execution": {
     "iopub.execute_input": "2023-06-18T12:29:50.957827Z",
     "iopub.status.busy": "2023-06-18T12:29:50.957377Z",
     "iopub.status.idle": "2023-06-18T12:29:50.963550Z",
     "shell.execute_reply": "2023-06-18T12:29:50.962348Z"
    },
    "papermill": {
     "duration": 0.029024,
     "end_time": "2023-06-18T12:29:50.966173",
     "exception": false,
     "start_time": "2023-06-18T12:29:50.937149",
     "status": "completed"
    },
    "tags": []
   },
   "outputs": [],
   "source": [
    "symp = list(data['text'])"
   ]
  },
  {
   "cell_type": "code",
   "execution_count": 13,
   "id": "a4bc342e",
   "metadata": {
    "execution": {
     "iopub.execute_input": "2023-06-18T12:29:51.007337Z",
     "iopub.status.busy": "2023-06-18T12:29:51.006754Z",
     "iopub.status.idle": "2023-06-18T12:29:51.018996Z",
     "shell.execute_reply": "2023-06-18T12:29:51.016782Z"
    },
    "papermill": {
     "duration": 0.037486,
     "end_time": "2023-06-18T12:29:51.023079",
     "exception": false,
     "start_time": "2023-06-18T12:29:50.985593",
     "status": "completed"
    },
    "tags": []
   },
   "outputs": [
    {
     "data": {
      "text/plain": [
       "1153"
      ]
     },
     "execution_count": 13,
     "metadata": {},
     "output_type": "execute_result"
    }
   ],
   "source": [
    "len(symp)"
   ]
  },
  {
   "cell_type": "markdown",
   "id": "54b2f6f5",
   "metadata": {
    "papermill": {
     "duration": 0.019441,
     "end_time": "2023-06-18T12:29:51.061603",
     "exception": false,
     "start_time": "2023-06-18T12:29:51.042162",
     "status": "completed"
    },
    "tags": []
   },
   "source": [
    "# data preprocessing"
   ]
  },
  {
   "cell_type": "code",
   "execution_count": 14,
   "id": "49c9acde",
   "metadata": {
    "execution": {
     "iopub.execute_input": "2023-06-18T12:29:51.101305Z",
     "iopub.status.busy": "2023-06-18T12:29:51.100793Z",
     "iopub.status.idle": "2023-06-18T12:29:52.198655Z",
     "shell.execute_reply": "2023-06-18T12:29:52.196446Z"
    },
    "papermill": {
     "duration": 1.122624,
     "end_time": "2023-06-18T12:29:52.202347",
     "exception": false,
     "start_time": "2023-06-18T12:29:51.079723",
     "status": "completed"
    },
    "tags": []
   },
   "outputs": [
    {
     "name": "stdout",
     "output_type": "stream",
     "text": [
      "[nltk_data] Downloading package stopwords to /usr/share/nltk_data...\n",
      "[nltk_data]   Package stopwords is already up-to-date!\n"
     ]
    },
    {
     "data": {
      "text/plain": [
       "True"
      ]
     },
     "execution_count": 14,
     "metadata": {},
     "output_type": "execute_result"
    }
   ],
   "source": [
    "import re\n",
    "import nltk\n",
    "nltk.download('stopwords')"
   ]
  },
  {
   "cell_type": "code",
   "execution_count": 15,
   "id": "c75f00ce",
   "metadata": {
    "execution": {
     "iopub.execute_input": "2023-06-18T12:29:52.242483Z",
     "iopub.status.busy": "2023-06-18T12:29:52.241737Z",
     "iopub.status.idle": "2023-06-18T12:29:52.247032Z",
     "shell.execute_reply": "2023-06-18T12:29:52.245968Z"
    },
    "papermill": {
     "duration": 0.027449,
     "end_time": "2023-06-18T12:29:52.249404",
     "exception": false,
     "start_time": "2023-06-18T12:29:52.221955",
     "status": "completed"
    },
    "tags": []
   },
   "outputs": [],
   "source": [
    "from nltk.corpus import stopwords\n",
    "from nltk.stem.porter import PorterStemmer\n",
    "ps = PorterStemmer()"
   ]
  },
  {
   "cell_type": "code",
   "execution_count": 16,
   "id": "29bff9a2",
   "metadata": {
    "execution": {
     "iopub.execute_input": "2023-06-18T12:29:52.287590Z",
     "iopub.status.busy": "2023-06-18T12:29:52.287072Z",
     "iopub.status.idle": "2023-06-18T12:29:52.292486Z",
     "shell.execute_reply": "2023-06-18T12:29:52.291112Z"
    },
    "papermill": {
     "duration": 0.027953,
     "end_time": "2023-06-18T12:29:52.294767",
     "exception": false,
     "start_time": "2023-06-18T12:29:52.266814",
     "status": "completed"
    },
    "tags": []
   },
   "outputs": [],
   "source": [
    "corpus = []"
   ]
  },
  {
   "cell_type": "code",
   "execution_count": null,
   "id": "2db8d0c6",
   "metadata": {
    "papermill": {
     "duration": 0.017096,
     "end_time": "2023-06-18T12:29:52.329494",
     "exception": false,
     "start_time": "2023-06-18T12:29:52.312398",
     "status": "completed"
    },
    "tags": []
   },
   "outputs": [],
   "source": []
  },
  {
   "cell_type": "code",
   "execution_count": 17,
   "id": "12a1b491",
   "metadata": {
    "execution": {
     "iopub.execute_input": "2023-06-18T12:29:52.367111Z",
     "iopub.status.busy": "2023-06-18T12:29:52.366215Z",
     "iopub.status.idle": "2023-06-18T12:29:52.373329Z",
     "shell.execute_reply": "2023-06-18T12:29:52.371920Z"
    },
    "papermill": {
     "duration": 0.029603,
     "end_time": "2023-06-18T12:29:52.376575",
     "exception": false,
     "start_time": "2023-06-18T12:29:52.346972",
     "status": "completed"
    },
    "tags": []
   },
   "outputs": [],
   "source": [
    "data=data.reset_index()"
   ]
  },
  {
   "cell_type": "code",
   "execution_count": 18,
   "id": "0c754f4c",
   "metadata": {
    "execution": {
     "iopub.execute_input": "2023-06-18T12:29:52.416635Z",
     "iopub.status.busy": "2023-06-18T12:29:52.415854Z",
     "iopub.status.idle": "2023-06-18T12:29:52.424330Z",
     "shell.execute_reply": "2023-06-18T12:29:52.422886Z"
    },
    "papermill": {
     "duration": 0.031604,
     "end_time": "2023-06-18T12:29:52.427503",
     "exception": false,
     "start_time": "2023-06-18T12:29:52.395899",
     "status": "completed"
    },
    "tags": []
   },
   "outputs": [],
   "source": [
    "data.drop(['index'], axis=1, inplace=True)"
   ]
  },
  {
   "cell_type": "code",
   "execution_count": 19,
   "id": "6529e60c",
   "metadata": {
    "execution": {
     "iopub.execute_input": "2023-06-18T12:29:52.467509Z",
     "iopub.status.busy": "2023-06-18T12:29:52.466768Z",
     "iopub.status.idle": "2023-06-18T12:29:58.476383Z",
     "shell.execute_reply": "2023-06-18T12:29:58.475107Z"
    },
    "papermill": {
     "duration": 6.033127,
     "end_time": "2023-06-18T12:29:58.479714",
     "exception": false,
     "start_time": "2023-06-18T12:29:52.446587",
     "status": "completed"
    },
    "tags": []
   },
   "outputs": [],
   "source": [
    "for i in range(0, len(data)):\n",
    "    sym = re.sub('[^a-zA-Z]', \" \", data['text'][i])\n",
    "    sym = sym.lower()\n",
    "    sym = sym.split()\n",
    "    \n",
    "    sym = [ps.stem(word) for word in sym if word not in stopwords.words('english')]\n",
    "    sym = ' '.join(sym)\n",
    "    corpus.append(sym)"
   ]
  },
  {
   "cell_type": "code",
   "execution_count": 20,
   "id": "7d58f72f",
   "metadata": {
    "execution": {
     "iopub.execute_input": "2023-06-18T12:29:58.519990Z",
     "iopub.status.busy": "2023-06-18T12:29:58.519564Z",
     "iopub.status.idle": "2023-06-18T12:29:58.556929Z",
     "shell.execute_reply": "2023-06-18T12:29:58.556083Z"
    },
    "papermill": {
     "duration": 0.065845,
     "end_time": "2023-06-18T12:29:58.564651",
     "exception": false,
     "start_time": "2023-06-18T12:29:58.498806",
     "status": "completed"
    },
    "tags": []
   },
   "outputs": [
    {
     "data": {
      "text/plain": [
       "['experienc skin rash arm leg torso past week red itchi cover dri scali patch',\n",
       " 'skin peel especi knee elbow scalp peel often accompani burn sting sensat',\n",
       " 'experienc joint pain finger wrist knee pain often achi throb get wors move joint',\n",
       " 'silver like dust skin especi lower back scalp dust made small scale flake easili scratch',\n",
       " 'nail small dent pit often feel inflammatori tender touch even minor rash arm',\n",
       " 'skin palm sole thicken deep crack crack pain bleed easili',\n",
       " 'skin around mouth nose eye red inflam often itchi uncomfort notic inflamm nail',\n",
       " 'skin sensit react easili chang temperatur humid often care product use skin',\n",
       " 'notic sudden peel skin differ part bodi mainli arm leg back also face sever joint pain skin rash',\n",
       " 'skin genit red inflam often itchi burn uncomfort rash differ part bodi',\n",
       " 'experienc fatigu gener feel malais often feel tire lack energi even good night sleep',\n",
       " 'rash skin spread part bodi includ chest abdomen itchi uncomfort often wors night also face skin peel',\n",
       " 'rash skin wors winter month air dri find moistur frequent use humidifi keep skin hydrat',\n",
       " 'experienc difficulti sleep due itch discomfort caus rash small dent nail realli concern',\n",
       " 'skin prone infect due dri flaki patch experienc strong pain joint skin knee elbow start peel',\n",
       " 'start rash skin rash often bleed scratch rub moreov notic small dent nail',\n",
       " 'notic skin becom sensit use silver like dust skin especi back elbow',\n",
       " 'worri constant peel skin palm elbow knee develop rash arm itch touch make life quit discomfort miser',\n",
       " 'strang pain joint also notic strang peel skin differ part bodi afraid someth wrong go bodi',\n",
       " 'nail small dent even joint start pain sever silver like dust skin particularli back',\n",
       " 'rash skin heal moreov notic sudden peel skin especi skin elbow knee realli worri',\n",
       " 'past week skin rash arm leg chest red irrit dri scali spot strang pain joint',\n",
       " 'skin peel particularli knee elbow scalp peel frequent accompani sting burn feel',\n",
       " 'joint discomfort finger wrist knee pain frequent ach throb worsen move joint',\n",
       " 'skin silveri film particularli back arm scalp dust compos tini scale easili peel scratch',\n",
       " 'red inflammatori skin around mouth nose eye frequent irrit unpleas recent got pain',\n",
       " 'skin extrem sensit quickli irrit chang temperatur humid nail develop dent worri sudden chang',\n",
       " 'seen sudden peel skin variou region bodi mostli arm leg back addit signific joint pain skin rash rash spread differ part bodi',\n",
       " 'genit skin red irrit frequent irrit burn unpleas also rash variou place bodi also strang pain joint',\n",
       " 'troubl sleep itch pain produc rash nail littl dent realli alarm notic inflamm nail',\n",
       " 'dri flaki area skin prone infect joint excruci agoni skin knee elbow begin flake',\n",
       " 'skin break rash scratch rub rash frequent bleed addit observ littl dent nail notic inflamm nail',\n",
       " 'observ skin sensit use skin silveri film especi back elbow',\n",
       " 'palm sole grown develop sever fissur crack unpleas frequent bleed also skin start peel',\n",
       " 'nail start small pit worri know caus also joint pain rash arm back',\n",
       " 'silver like dust skin moreov skin arm back start peel strang realli concern',\n",
       " 'skin rash extend area bodi includ chest belli irrit unpleas frequent worst night also experienc skin flake',\n",
       " 'skin rash get wors winter air dri keep skin moistur moistur regularli use humidifi also face joint pain',\n",
       " 'troubl sleep itch pain produc rash nail littl dent also experienc skin peel differ part bodi',\n",
       " 'skin peel place especi knee elbow arm peel often accompani pain burn sensat also develop small dent nail realli concern',\n",
       " 'skin silveri layer especi back arm dust made small scale peel readili rub also rash bodi',\n",
       " 'arm face back red irrit frequent irrit unpleas nail strang inflamm develop small dent never seen anyth like',\n",
       " 'troubl sleep itch pain produc rash nail littl dent realli alarm moreov joint pain everyday idea caus',\n",
       " 'finger sole pretti thick skin crack sever fractur hurt bleed frequent fractur itchi cover scale',\n",
       " 'skin chang less sensit sensit skin silveri coat especi back elbow knee',\n",
       " 'nail slightli dent even joint experienc excruci discomfort skin silver like powder especi back elbow',\n",
       " 'troubl fall asleep rash pain itch skin finger start peel nail tini crack realli worri',\n",
       " 'joint experienc unusu discomfort addit experienc weird skin peel variou place bodi concern someth wrong bodi',\n",
       " 'start rash arm neck rash often bleed hurt scratch also develop small dent nail strang',\n",
       " 'dri flaki area skin prone infect joint extrem pain knee elbow skin start peel',\n",
       " 'rash leg caus lot discomfort seem cramp see promin vein calf also feel tire fatigu past coupl day',\n",
       " 'calv cramp walk stand long period time bruis mark calv make worri feel tire soon',\n",
       " 'bruis leg cannot explain see strang blood vessel skin also slightli obes realli worri',\n",
       " 'overweight notic leg swollen blood vessel visibl leg swollen see stream swollen vein calv',\n",
       " 'vein calv becom promin caus discomfort stand long period time caus pain leg similar cramp',\n",
       " 'skin around vein leg red inflam believ see swollen blood vessel realli worri',\n",
       " 'stand walk long period time caus lot pain leg get cramp upon physic activ bruis mark leg',\n",
       " 'cramp calv make difficult walk feel fatigu work time believ obes reason behind',\n",
       " 'swell leg gotten wors past week larg number vein notic calv make worri',\n",
       " 'vein leg notic caus discomfort seem like major bruis get cramp run',\n",
       " 'skin calv becom inflam red leg hurt tri run physic activ',\n",
       " 'recent pain calv constant becom wors stand walk long period time leg start swell also blood vessel quit notic',\n",
       " 'vein leg caus discomfort difficulti sleep night idea happen get cramp sprint',\n",
       " 'swell leg caus difficulti fit shoe sprint stand long period time see swollen blood vessel',\n",
       " 'notic cramp calv becom frequent intens caus lot discomfort also overweight leg start swell',\n",
       " 'vein leg caus lot discomfort sit long period time',\n",
       " 'rash leg spread becom sever becom difficult run',\n",
       " 'leg caus lot discomfort exercis get frequent cramp blood vessel becom quit notic',\n",
       " 'promin blood vessel calv caus self conscious embarrass believ problem overweight',\n",
       " 'skin around vein leg dri flaki seem major bruis leg start swell',\n",
       " 'experienc rash leg caus lot irrit discomfort red inflam appear spread',\n",
       " 'recent calv cramp frequent especi walk stand long period time also vein notic',\n",
       " 'notic bruis leg cannot explain pain concern',\n",
       " 'overweight notic leg swollen blood vessel visibl usual swell seem get wors time',\n",
       " 'vein calv promin caus lot discomfort swollen protrud skin',\n",
       " 'skin around vein leg red inflam itchi caus lot discomfort start get regular cramp',\n",
       " 'stand walk long period time caus lot pain leg feel like cramp becom wors longer feet',\n",
       " 'cramp calv make difficult walk daili activ come suddenli last sever minut',\n",
       " 'swell leg gotten wors past week caus difficulti fit shoe also caus discomfort sit long period time',\n",
       " 'vein leg notic caus lot discomfort swollen protrud skin make visibl cloth',\n",
       " 'skin calv itchi inflam caus lot discomfort difficulti sleep night blood vessel start protrud concern',\n",
       " 'pain calv constant becom wors stand walk long period time get constant cramp run longer period time',\n",
       " 'vein leg caus discomfort difficulti sleep night swollen protrud skin make notic pain',\n",
       " 'swell leg caus difficulti fit shoe caus discomfort sit long period time',\n",
       " 'cramp calv becom frequent intens make difficult walk daili activ',\n",
       " 'vein leg caus lot discomfort sit long period time swollen protrud skin make pain notic',\n",
       " 'rash leg spread becom sever red inflam itchi caus lot discomfort difficulti sleep night',\n",
       " 'leg caus lot discomfort exercis feel heavi swollen vein promin pain feel fatigu time',\n",
       " 'promin vein calv caus self conscious embarrass swollen protrud skin make notic',\n",
       " 'skin around vein leg dri flaki caus discomfort irrit also start get frequent cramp',\n",
       " 'rash leg give lot pain appear cramp see visibl vein calf',\n",
       " 'vein leg becom visibl swollen normal visibl skin hurt move',\n",
       " 'walk tough cramp calv obes believ caus work exhaust',\n",
       " 'blood vessel leg quit visibl give lot pain larg protrud skin unusu worri',\n",
       " 'notic blood vessel leg get notic usual littl concern moreov experienc cramp everi day',\n",
       " 'leg swell becom wors last coupl day see blood vessel protrud skin quit unusu',\n",
       " 'long durat stand walk caus sever discomfort leg burn ach get wors longer feet',\n",
       " 'leg skin around vein unusu appear larg bruis nowaday get frequent cramp sprint run',\n",
       " 'experienc mani cramp last coupl day think someth right believ small bruis calv sure',\n",
       " 'vein calv protrud quit unusu worri also overweight believ reason behind',\n",
       " 'constip belli pain realli uncomfort belli pain get wors start affect daili life moreov get chill everi night follow mild fever',\n",
       " 'also diarrhea realli unpleas come go accompani abdomin cramp bloat',\n",
       " 'experienc chill fever along sever abdomin pain feel realli miser overal seem shake symptom',\n",
       " 'lot troubl keep hydrat vomit diarrhea mild fever along constip headach',\n",
       " 'lost lot weight past week abl eat much due nausea vomit follow mild fever headach belli pain realli concern health',\n",
       " 'fatigu realli uncomfort lot difficulti usual activ also feel realli depress irrit mild pain abdomin part',\n",
       " 'persist headach past week get wors accompani belli ach constip diarrhea',\n",
       " 'experienc high fever especi night realli uncomfort mild headach along constip diarrhea',\n",
       " 'lot difficulti breath feel like constantli nauseou also mild belli pain terrifi time',\n",
       " 'diarrhea realli wateri foul smell accompani abdomin pain feel like vomit time',\n",
       " 'lot troubl sleep high fever headach chill wake everi day terribl pain belli area',\n",
       " 'also experienc diarrhea constip realli worri feel like sharp stab pain belli area feel tire time',\n",
       " 'constip belli pain realli uncomfort pain get wors realli affect daili life',\n",
       " 'experienc lot belli pain constip realli annoy sometim feel strong urg vomit feel weak',\n",
       " 'abdomin pain come go realli unpleas accompani constip vomit feel realli concern health',\n",
       " 'experienc lot bloat constip realli uncomfort feel like lot pressur pain belli area',\n",
       " 'experienc extrem belli pain constip everi night sever fever along chill headach last coupl day realli uncomfort',\n",
       " 'feel exhaust weak seem get rid vomit nausea entir lost appetit belli pain caus concern',\n",
       " 'experienc constip stomach ach realli difficult discomfort gotten wors serious interf everyday life',\n",
       " 'vomit diarrhea lot difficulti stay hydrat high fever well constip headach',\n",
       " 'abdomin pain frequent realli pain constip vomit also occur quit worri health',\n",
       " 'sever stomach pain constip everi night get headach chill last day realli pain',\n",
       " 'distinct pain abdomin part sure also go constant vomit feel nauseou',\n",
       " 'diarrhea quit fluid smelli accompani sever abdomin pain headach time feel like vomit',\n",
       " 'fever last coupl day start experi sever pain stomach area suffer constip',\n",
       " 'experienc lot nausea vomit quit difficult eat anyth entir lost appetit result becom quit weak',\n",
       " 'lot troubl sleep high fever headach moreov constant belli pain go work',\n",
       " 'feel realli fatigu weak seem get rid mild fever strang pain abdomin area understand happen',\n",
       " 'suffer constip stomach discomfort realli uncomfort last night mild fever',\n",
       " 'also suffer diarrhea realli uncomfort come goe accompani stomach ach vomit',\n",
       " 'experienc chill fever extrem stomach discomfort gener unhappi seem get rid symptom',\n",
       " 'vomit diarrhea lot difficulti stay hydrat mild fever well stomach pain',\n",
       " 'develop diarrhea accompani sever pain belli area feel like eat anyth time mild headach',\n",
       " 'lot bloat constip realli pain lot pressur pain stomach area get high fever chill everi night',\n",
       " 'persist stomach pain past week heal even medic feel like vomit eat anyth becom extrem weak',\n",
       " 'sever stomach discomfort diarrhoea high fever along headach previou sever day realli unpleas',\n",
       " 'terribl pain abdomin part feel realli nauseat also experienc mild fever realli worri',\n",
       " 'experienc constip stomach ach discomfort gotten wors serious interf everyday life feel like lost appetit eat anyth',\n",
       " 'time feel fatigu want eat anyth get high fever chill everi night moreov vomit sinc yesterday',\n",
       " 'lost appetit notic signific weight loss abdomin pain especi area stomach intestin concern health',\n",
       " 'stomach discomfort sever frequent vomit constip also happen concern health',\n",
       " 'experienc diarrhea loos wateri stool sever time day lost appetit feel nauseat time start get mild fever',\n",
       " 'feel quit weak lot stomach discomfort constip realli bother strong urg vomit time result eat anyth',\n",
       " 'strang pain stomach area know reason behind moreov start get mild fever along chill headach',\n",
       " 'high fever particularli night quit unpleas littl headach well constip diarrhea feel like eat anyth',\n",
       " 'lot troubl stay hydrat vomit diarrhea high fever constip headach also start get strang pain stomach area anyth physic',\n",
       " 'get headach past week grow wors accompani stomach pain constip diarrhea know happen realli worri',\n",
       " 'lost lot weight last week eat much due nausea vomit follow high fever headach stomach pain',\n",
       " 'diarrhea constip quit concern stomach sever pain ach constantli exhaust feel like eat anyth',\n",
       " 'diarrhoea loos wateri stool mani time day lost appetit alway sick also develop mild fever also abdomin part pain lot know reason behind',\n",
       " 'experienc intens itch skin drive crazi also rash red inflam',\n",
       " 'feel fatigu energi bare keep eye open day feel letharg unabl motiv',\n",
       " 'high fever past day know caus also notic rash skin hard resist scratch',\n",
       " 'lost appetit seem eat anyth worri health',\n",
       " 'small red spot bodi explain worri feel extrem tire experi mild fever everi night',\n",
       " 'lymph node swollen caus discomfort neck armpit know caus',\n",
       " 'feel realli sick uncomfort like someth wrong insid know could notic small red spot arm itch touch',\n",
       " 'itch make hard sleep night get rest also lost appetit feel letharg',\n",
       " 'worri rash skin spread rapidli caus lot discomfort hardli sleep night itch',\n",
       " 'energi lost appetit feel realli sick know wrong',\n",
       " 'skin rash red inflam spread bodi experienc intens itch especi arm leg',\n",
       " 'high fever past day start worri know caus also red spot arm leg swollen',\n",
       " 'skin rash red swollen spread bodi mild fever caus lot discomfort',\n",
       " 'small red spot bodi explain bump itchi uncomfort seem spread rapidli worri',\n",
       " 'itch make hard sleep night seem get rest rash itchi uncomfort feel realli tire exhaust',\n",
       " 'energi lost appetit high fever sever headach know wrong',\n",
       " 'high fever swollen lymph node caus much discomfort headach feel weak fatigu hard concentr fever',\n",
       " 'rash skin caus lot discomfort red inflam spread bodi rash accompani intens itch especi arm leg',\n",
       " 'red spot bodi explain spot itchi start swell spread rapidli',\n",
       " 'small lymph node arm face itch make day uncomfort',\n",
       " 'energi lost appetit feel realli sick know wrong also small red spot start show skin',\n",
       " 'mild fever past day start worri fever accompani sever headach feel weak letharg',\n",
       " 'swollen lymph node red spot bodi caus discomfort also mild fever feel tire time',\n",
       " 'suffer sever itch bodi drive insan also red irrit rash',\n",
       " 'seen rash skin difficult scratch also high fever sever day sure caus',\n",
       " 'littl red spot bodi understand worri lost appetit everi night exhaust sever headach',\n",
       " 'feel realli sick lost appetit seen littl red patch arm neck face itch touch',\n",
       " 'red spot arm leg itch make difficult sleep night also sever headach mild fever',\n",
       " 'enlarg lymph node give great deal pain rash bodi cannot sleep night',\n",
       " 'skin rash give lot pain discomfort red swollen spread throughout bodi',\n",
       " 'high fever mild headach tire time complet lost appetit',\n",
       " 'arm face small lymph node start swell day made realli miser constant itch pain',\n",
       " 'arm neck larg lymph node itch touch itch made day extrem uncomfort',\n",
       " 'skin rash caus great deal pain also small red spot develop near neck sinc yesterday sever fever headach fatigu',\n",
       " 'start develop tini red spot face neck area itch touch itch make day uncomfort',\n",
       " 'lost appetit complet seem eat anyth feel like vomit feel exhaust notic rash skin realli concern',\n",
       " 'high fever sever headach seem eat anyth feel like vomit also red spot develop arm realli worri',\n",
       " 'worri red spot skin spread rapidli caus lot problem also develop mild fever headach everi night',\n",
       " 'feel realli nauseou uneasi sure might seen rash arm leg lost appetit feel exhaust everi day',\n",
       " 'swollen red lymph node arm leg itch touch also suffer terribl headach mild fever feel like eat anyth lost appetit',\n",
       " 'realli exhaust lack energi hardli keep eye open day mild fever feel like eat anyth think lost appetit',\n",
       " 'exhaust lost appetit feel vomit eat anyth addit littl red spot begin appear skin near neck realli worri health',\n",
       " 'small red spot bodi spot itchi uncomfort also mild fever headach',\n",
       " 'suffer sever itch bodi along fever headach red spot start swell get realli uncomfort everi day',\n",
       " 'feel tire everi day red spot arm back itch touch realli worri sure',\n",
       " 'high fever swollen lymph node headach caus lot troubl feel like eat anyth feel weak fatigu hard concentr daili life',\n",
       " 'high fever red spot rash bodi feel exhaust complet lost appetit made weak letharg realli worri',\n",
       " 'seen rash arm neck itch scratch also high fever day idea caus itch caus lot discomfort',\n",
       " 'red swollen spot bodi itch touch moreov also high fever headach alway feel exhaust',\n",
       " 'develop skin rash face neck rash made red sore blister worri health',\n",
       " 'develop skin rash made blister sore blister sore rais fluid fill lesion pain touch also suffer high fever',\n",
       " 'high fever red sore develop near nose sore pain yellow rust color ooz come',\n",
       " 'rash around nose larg red sore notic rash spread part bodi also high fever everi night',\n",
       " 'suffer high fever last coupl day sore develop near nose sore pain feel uncomfort day',\n",
       " 'skin develop rash mainli near nose rash spread part bodi realli worri',\n",
       " 'experienc extrem fatigu high fever rash near nose mouth rash itchi make difficult sleep',\n",
       " 'suffer extrem fever weak develop sore face sore itchi uncomfort often yellow color ooz come sore',\n",
       " 'notic sore take longer heal prone infect sore face swollen tender touch uncomfort handl',\n",
       " 'red sore face near nose notic rash spread quickli neck chest',\n",
       " 'sore around nose becom crust difficult touch yellow rust colour ooz use come sore take much time handl',\n",
       " 'develop minor rash near nose day ago rash accompani burn sensat red skin feel kind infect',\n",
       " 'initi develop small red sore near nose neck high fever sore becom pain inflam past day',\n",
       " 'notic skin rash face made blister sore today observ yellow color fluid come sore sure',\n",
       " 'sore face begin weep clear fluid also everi night get high fever chill cannot sleep night',\n",
       " 'initi rash face near nose rash spread arm leg',\n",
       " 'high fever everi night develop sore face particularli near nose notic sore take longer heal prone infect',\n",
       " 'sore around nose surround red inflam skin rash caus skin becom dri flaki visibl yellow color fluid come sore',\n",
       " 'also experienc flu like symptom fever bodi pain notic red rash blister sore near nose lip itchi uncomfort',\n",
       " 'suffer mild fever headach small sore near nose rash neck go tough time right',\n",
       " 'rash particularli bad around nose larg red sore pain yellow rust color ooz come',\n",
       " 'sore face mostli near nose lip sore caus discomfort pain discharg yellow rust color fluid',\n",
       " 'develop sore face nose area sure caus sore face swollen tender touch burn sensat red skin',\n",
       " 'rash face becom pain inflam past day sore begin weep clear fluid get extrem pain day',\n",
       " 'rash face start small sore around nose often yellow fluid come sore sore becom extrem pain',\n",
       " 'feel realli sick high fever headach notic rash arm face extrem worri today observ red sore near nose',\n",
       " 'suffer high fever past day sore form around nose rash differ part bodi sore sever feel realli uneasi day',\n",
       " 'high fever realli weak face gotten sore blister itchi pain yellow ooz frequent leak wound',\n",
       " 'experienc skin rash burn sore blister sore fluid fill elev red color lesion unpleas touch also high fever',\n",
       " 'believ skin diseas rash face small sore near nose sore becom red pain kind yellow ooz discharg',\n",
       " 'notic sore face heal slowli like becom infect cheek sore larg pain touch extrem difficult handl seem get rid sore',\n",
       " 'high fever skin rash face neck arm rash made burn red lesion concern health',\n",
       " 'acquir skin rash blister sore blister sore fluid fill elev lesion unpleas touch also run high fever',\n",
       " 'run high temperatur near nose red sore form lesion pain yellow rust color fluid ooz',\n",
       " 'rash around nose well huge red sore rash spread place bodi seen addit high temperatur everi night',\n",
       " 'cheek nose cover red sore observ rash neck chest spread faster also develop mild fever',\n",
       " 'nasal sore crust becom difficult touch wound use leak yellow rust colour fluid take lot longer deal use medic',\n",
       " 'day ago experienc tini rash around nose rash accompani burn feel skin red discharg fluid believ sort infect',\n",
       " 'small red sore appear near nose neck first high temperatur sore gotten pain inflam recent day',\n",
       " 'rash develop around nose lip huge red lesion pain emit yellow rust color fluid',\n",
       " 'face cover sore near nose lip lesion caus discomfort suffer yellow rust color fluid ooz',\n",
       " 'start get sore face nose idea caus cheek sore larg irrit touch burn feel skin red',\n",
       " 'last two day rash face gotten sever inflam blister begun bleed clear pu realli pain deal',\n",
       " 'feel skin condit face rash littl blister around nose wound turn red pain yellow liquid ooz',\n",
       " 'observ lesion face heal slower prone infect lesion cheek huge unpleas touch incred difficult treat seem get sore go away',\n",
       " 'run high temperatur develop rash face neck arm rash consist pain red lesion health concern',\n",
       " 'last week rash face gotten sever pain sore begun discharg yellow color fluid becom increasingli pain day',\n",
       " 'rash face develop littl sore around nose yellow ooz frequent ooz lesion becom even pain',\n",
       " 'feel quit ill high fever headach rash appear arm face quit concern saw red sore around nose lip today',\n",
       " 'rash face heal tri medic help much recent notic small sore near nose pain difficult handl',\n",
       " 'face sever joint pain vomit develop skin rash cover entir bodi accompani intens itch',\n",
       " 'experienc chill shiver despit warm environ back pain time red spot arm',\n",
       " 'experienc sever joint pain make difficult move perform daili activ also lost apetit feel weak',\n",
       " 'vomit frequent lost appetit result joint back pain time',\n",
       " 'high fever accompani sever headach bodi pain experinc chill everi night distinct pain behind eye',\n",
       " 'feel extrem tire fatigu energi anyth develop rash neck itch upon touch',\n",
       " 'experienc sever headach accompani pain behind eye lost apetit experi chill everi night',\n",
       " 'feel nauseou constant urg vomit strong pain behind eye small red spot arm',\n",
       " 'develop red spot bodi itchi inflam also experienc high fever along chill shiver',\n",
       " 'experienc muscl pain make difficult move around lost apetit feel vomit leg back pain lot',\n",
       " 'experienc back pain wors sit stand long time also rash bodi pain behind eye',\n",
       " 'skin rash develop accompani red swell feel well sever fever accompani bodi pain',\n",
       " 'chill shiver experienc accompani feel cold high fever also develop rash arm red spot neck',\n",
       " 'joint pain experienc sever feel like constant ach head ach time start develop mild fever accompani chill',\n",
       " 'vomit experienc accompani stomach cramp dizzi lost apetit feel weak result pain behind eye',\n",
       " 'high fever experienc accompani sweat weak muscl pain result cannot work day',\n",
       " 'fatigu feel extrem make difficult perform even basic task feel vomit develop rash arm neck leg',\n",
       " 'headach experienc sever accompani feel pressur head mild fever along headach small red spot back',\n",
       " 'nausea feel accompani loss appetit feel uneas distinct pain back muscl pain',\n",
       " 'muscl pain experienc sever feel like constant ach red spot bodi itch caus lot discomfort',\n",
       " 'develop skin rash cover entir bodi accompani intens itch bodi pain mild fever acompani headach chill',\n",
       " 'experienc extrem bodi pain headach vomit develop red spot cover entir bodi caus sever itch',\n",
       " 'back hurt time arm neck rash back eye pain lot also fever make worri health',\n",
       " 'suffer signific joint pain make difficult walk carri everyday task also lost appetit make feel weak feel like vomit',\n",
       " 'constant behind eye develop red spot neck face rash arm arm leg pain lot spot itchi uncomfort worri',\n",
       " 'feel sick feel strong need vomit sharp ach behind eye swollen red dot back',\n",
       " 'shiver shiver accompani sensat cold high fever rash arm red patch neck also appear',\n",
       " 'suffer sever joint ach feel vomit time develop moder fever chill fever seem come even medic',\n",
       " 'vomit follow stomach pain dizzi lost appetit result feel weak arm back neck pain time',\n",
       " 'develop red spot arm leg itchi inflam feel nauseau constant urg vomit accomapani mild fever',\n",
       " 'develop skin rash cover entir bodi rash red swollen wors certain area arm leg also lost appetit',\n",
       " 'experienc chill shiver strong pain back also behind eye also notic small red spot back neck',\n",
       " 'experienc sever joint pain make day difficult feel like vomit time mild headach',\n",
       " 'vomit frequent lost appetit result rash skin eye pain cannot sleep properli',\n",
       " 'high fever along sever headach fever accompani extrem bodi pain chill worri health know',\n",
       " 'feel extrem tire fatigu energi anyth fatigu sever struggl get bed notic small red spot arm leg',\n",
       " 'experienc sever headach accompani pain behind eye feel tire fatigu cannot work day worri health',\n",
       " 'feel nauseou constant urg vomit accompani mild fever headach',\n",
       " 'develop rash bodi itchi lost appetit feel tire day feel someth wrong bodi',\n",
       " 'experienc muscl pain headach muscl pain feel like constant ach wors tri use affect muscl small red spot develop face neck arm',\n",
       " 'back hurt rash arm armpit back eyebal hurt lot also mild fever make us concern health',\n",
       " 'experienc high fever chill everi night realli concern moreov feel like eat anyth back arm leg pain lot strang pain behe eye physic activ',\n",
       " 'result regular vomit lost appetit muscl joint back constantli hurt start fever realli worri sure',\n",
       " 'experienc sever fever accompani pain behind eye headach feel tire exhasut cannot work',\n",
       " 'whole bodi pain lot feel like eat anyth mild fever get chill everi night also red spot develop back neck',\n",
       " 'joint back pain everyday feel like vomit made weak bodi pain abl focu work feel like anyth',\n",
       " 'bodi pain feel extrem lost appetit develop rash arm face back eye pain lot',\n",
       " 'develop rash bodi also experienc high fever along chill headach joint back hurt strang pain back eye',\n",
       " 'feel nauseou constant urg vomit get high fever chill everi night feel terribl also feel lost appetit',\n",
       " 'rash skin itch touch feel good joint pain whole day night mild fever get chill sleep',\n",
       " 'rais lump rash look red inflam discolour area skin differ colour rest skin itch skin',\n",
       " 'bodi sever itch follow red bumpi rash skin also darken spot tini nodular breakout happen sever day becom wors',\n",
       " 'rash skin look like dischrom patch also lot nodular erupt realli bad itch previou week becom wors',\n",
       " 'rash go away bothersom itch skin addit seen color differ area bump resembl knot lump skin',\n",
       " 'rash bodi stop scratch skin itchi skin also spot hue alter lump knot like pimpl',\n",
       " 'recent skin quit itchi rash bodi skin also spot hue alter lump knot like pimpl',\n",
       " 'skin itch lot develop rash addit area skin differ hue rest addit firm pimpl breakout skin',\n",
       " 'bodi itch like crazi red area addit patch differ tone natur skin skin lump pimpl develop',\n",
       " 'skin act recent becom extrem itchi rash prone addit certain spot deviat natur skin tone term hue skin lump bump',\n",
       " 'arm leg lot red pimpl itchi skin skin also odd look lesion occasion bump somewhat uncomfort',\n",
       " 'itchi skin lot red bump arm leg weird look spot skin sometim bump feel kind hard',\n",
       " 'doctor realli itchi rash skin weird spot differ color also bump skin look like littl knot',\n",
       " 'doctor skin cover uncomfort rash along odd patch differ hue skin also pimpl resembl littl knot',\n",
       " 'lot itchi spot skin sometim turn red bumpi also weird patch differ color rest skin sometim get weird bump look like littl ball',\n",
       " 'skin frequent develop itchi bump occasion turn red rough asid skin occasion develop strang pimpl resembl small ball odd spot differ hue rest skin',\n",
       " 'doctor red rash keep pop skin continu itch addit observ odd color differ spot skin well littl nodul skin appear expand',\n",
       " 'experienc realli intens itch bodi along red bump skin also weird patch differ color rest skin sometim get nodul look like small bump',\n",
       " 'bodi scratch much skin becom red develop pimpl addit occasion get nodul resembl littl pimpl well strang patch differ hue rest skin',\n",
       " 'experienc lot itch accompani rash appear grow wors time also certain area skin differ colour rest spot sever lump resembl littl node',\n",
       " 'lot problem itch accompani rash seem get wors time also patch skin differ color rest notic bump look like littl node',\n",
       " 'doctor skin cover uncomfort rash odd patch skin differ colour pimpl skin resembl littl knot',\n",
       " 'itch lot accompani rash look get wors time also patch skin differ colour rest skin well lump resembl littl node',\n",
       " 'skin act late becom exceedingli itchi prone rash furthermor sever patch differ normal skin tone term colour lump bump skin',\n",
       " 'rash appear develop throughout skin accompani recent bout intens itch discomfort skin also dischrom spot littl lump seem appear everywher',\n",
       " 'skin alway itch occasion becom quit rough red addit occasion get littl pimpl resembl tini ball certain spot differ colour rest skin sever irrit itch',\n",
       " 'lot itch skin sometim get realli red bumpi also patch differ color rest skin sometim get littl bump look like littl ball realli annoy itchi',\n",
       " 'pretti irrit itch bodi skin also red bumpi area also pimpl resembl small ball spot differ colour rest skin',\n",
       " 'pretti uncomfort itch bodi well red bumpi area skin also certain patch skin differ hue rest pimpl resembl littl ball',\n",
       " 'realli annoy itch bodi red bumpi spot skin also area differ color rest skin bump look like littl ball',\n",
       " 'pretti uncomfort itch bodi well red bumpi area skin also certain patch epidermi distinct shade rest pimpl resembl littl ball',\n",
       " 'realli itchi late rashi spot skin also area look differ shade rest skin bump kind hard',\n",
       " 'quit itchi recent rashi patch skin also certain region darker colour rest skin got firm lump',\n",
       " 'rather itchi recent rashi blotch skin also certain region dark color rest skin got pain lump',\n",
       " 'recent scratch lot skin cover rashi place addit pimpl rather firm certain spot bodi differ shade brown rest skin',\n",
       " 'skin realli itchi rashi spot also patch look differ color rest skin bump kind hard',\n",
       " 'skin realli scratchi rash bodi bump quit firm well area darker shade rest skin extrem unpleas',\n",
       " 'rashi area skin realli irrit addit bump fairli firm patch differ colour rest skin',\n",
       " 'recent scratch lot skin cover rashi place addit spot skin appear usual shade experienc lump quit pain',\n",
       " 'realli itchi late rashi spot skin also area look like normal color skin bump kind hard',\n",
       " 'quit itchi recent rashi place bodi also region appear typic hue skin experienc firm lump',\n",
       " 'itch rashi patch skin recent also region appear regular tone skin experienc pain bump',\n",
       " 'recent itch lot skin cover rashi patch furthermor region skin appear usual tone experienc lump except pain',\n",
       " 'constant itch red bumpi spot skin also patch differ color rest skin bump kind like littl lump',\n",
       " 'red bumpi area skin scratch nonstop addit bump resembl littl lump spot differ shade skin rest bodi',\n",
       " 'lot itch skin occasion turn rash also odd patch skin differ hue rest occasion get littl pimpl resembl nodul',\n",
       " 'tendenc itch skin frequent turn rash also strang patch skin differ tone rest skin regularli get littl lump mimic nodul',\n",
       " 'experienc lot itch skin sometim turn rash also strang patch skin differ color rest sometim get littl bump look like nodul',\n",
       " 'bodi itch terribl red spot everywher patch also differ tone natur complexion lump pimpl appear skin',\n",
       " 'skin realli itchi late occasion erupt rash addit odd area skin differ color rest occasion develop littl bump look like nodul',\n",
       " 'red blotch bodi itch horribl patch also differ complexion natur skin lump bump develop skin',\n",
       " 'stop sneez nose realli runni also realli cold tire time cough lot fever realli high like way normal',\n",
       " 'nose extrem runni seem stop sneez addit constantli feel cold exhaust cough lot fever also realli high far normal',\n",
       " 'sneez nonstop seem shake chill feel realli weak tire cough go away fever realli high',\n",
       " 'sneez incessantli get chill go away feel weak exhaust cough stop temperatur realli high',\n",
       " 'constantli sneez bodi shake cold tire bare move head kill fever roof',\n",
       " 'constantli sneez cold make bodi trembl exhaust hardli move head hurt fever quit high',\n",
       " 'quit exhaust ill sneez nonstop quit cold head throb lack energi addit high fever feel like fire',\n",
       " 'feel realli tire sick sneez lot seem get warm tire head kill fever realli high like boil',\n",
       " 'quit exhaust ill throat quit pain fairli nasti cough got lot chill pretti high temperatur feel extrem run weak',\n",
       " 'quit exhaust ill sneez lot troubl warm exhaust head hurt feel like boil high temperatur',\n",
       " 'stop sneez feel realli tire crummi throat realli sore lot gunki stuff nose throat neck feel swollen puffi',\n",
       " 'stop sneez exhaust sick throat realli uncomfort lot junk nose throat neck also swollen puffi',\n",
       " 'keep sneez miser exhaust lot gunki thing nose throat throat realli hurt neck also feel puffi swollen',\n",
       " 'feel realli exhaust sick stomach realli bad cough throat hurt lot experienc substanti sinu pressur congest nose realli unpleas worn',\n",
       " 'sneez lot feel realli tire sick also lot gross stuff come nose throat feel realli scratchi neck feel swollen',\n",
       " 'wheez lot gener feel sick exhaust throat feel realli scratchi lot gross stuff flow nose neck also feel bloat',\n",
       " 'sinus feel incred congest eye continu red constantli feel drain exhaust addit lot uncomfort phlegm throat lymph node feel bloat breath challeng',\n",
       " 'eye realli red sinus feel congest energi throat realli itchi also notic lymph node swollen cough lot phlegm',\n",
       " 'sinus feel stuffi eye quit red simpli lack energi throat realli scratchi along swell lymph node also cough lot phlegm',\n",
       " 'eye alway red itchi nose feel stuffi congest feel kind sick tire time keep cough gunk throat feel sore scratchi notic bump neck bigger usual',\n",
       " 'nose alway feel stuffi congest eye alway red itch feel unwel fatigu keep hack gunk scratchi irrit throat seen neck bump larger usual',\n",
       " 'keep sneez eye quit drip incred difficult breath feel like someth trap throat often feel exhaust late lot phlegm moreov lymph node enlarg',\n",
       " 'eye red wateri time also pressur sinus go away alway feel tire lot troubl breath also lot gunk throat lymph node swollen',\n",
       " 'eye constantli red runni persist tight sinus also bother lot difficulti breath constantli feel fatigu addit lot throat mucu inflam lymph node',\n",
       " 'nose feel quit clog eye constantli red runni addit chest hurt lot breath problem addit muscl feel quit pain smell anyth',\n",
       " 'eye usual red runni nose alway stuffi also difficulti breath chest hurt addit smell anyth muscl quit pain',\n",
       " 'eye usual red inflam impress someth clog sinus cough lot gunk chest hurt smell anyth muscl ach',\n",
       " 'eye alway red swollen feel like someth block sinus cough lot goo chest feel realli heavi smell anyth muscl realli sore',\n",
       " 'cough lot feel chilli shiveri nose quit clog experienc facial pressur also lot phlegm cough pain chest smell anyth muscl ach',\n",
       " 'day nasti cough cold sinus clog facial pressur also creat phlegm cough pain chest smell anyth muscl ach',\n",
       " 'nasti cough cold day sinus congest facial pressur also cough mucu pain chest smell anyth muscl ach',\n",
       " 'cough cold aw day sinus congest face strain addit cough phlegm hurt chest sens smell muscl hurt lot',\n",
       " 'cough nonstop shiver terribl stuffi nose face strain addit throat cough nasti gunk chest hurt muscl hurt lot smell anyth',\n",
       " 'stop cough feel realli cold sinus block lot mucu chest hurt smell anyth muscl also realli sore',\n",
       " 'cough nonstop realli chilli mucu product excess sinus fulli clog smell anyth chest hurt muscl quit pain well',\n",
       " 'stop cough freez sinus complet block inund mucou chest hurt unabl smell anyth muscl also realli achi',\n",
       " 'cough lot find difficult breath throat hurt feel like lot phlegm trap chest nose run lot feel realli congest',\n",
       " 'experienc sever weari sickli sensat throat realli pain fairli sever cough nose quit stuffi signific sinu pressur realli miser extrem exhaust',\n",
       " 'feel realli sick lot fatigu realli bad cough throat realli sore lot sinu pressur nose realli congest feel realli run miser',\n",
       " 'quit exhaust ill throat quit pain fairli nasti cough got lot chill pretti high temperatur simpli put feel realli run feebl',\n",
       " 'realli weari ill suffer sever cough sore throat got lot chill pretti high temperatur simpli feel tire run',\n",
       " 'quit sneez nose run also constantli chilli exhaust cough lot fever also realli high well usual',\n",
       " 'feel aw lot congest runni nose cough lot lot chest pain fever realli high experienc sever muscular discomfort',\n",
       " 'neck swollen exhaust throat scratchi eye burn red nose realli clog experienc facial pressur chest hurt unabl smell anyth',\n",
       " 'lack energi feel like neck bloat eye red throat feel scratchi sever congest nostril face pressur smell anyth chest hurt',\n",
       " 'feel quit weak lymph node enlarg eye burn throat hurt sinus strain nose stuffi smell anyth chest hurt',\n",
       " 'terribl cough cold day face tire sinus block addit chest hurt phlegm cough smell muscl terribl pain',\n",
       " 'red wateri eye time sinus also bother constant tight breath quit tough feel worn time lymph node irrit also lot throat mucou',\n",
       " 'alway get hot puffi eye feel someth obstruct sinus chest feel quit heavi cough lot gunk sens smell muscl hurt lot',\n",
       " 'feel realli cold tire late cough lot chest pain heart beat realli fast cough phlegm kind rusti color',\n",
       " 'cough lot recent chest pain feel incred chilli exhaust addit heart thump rapidli phlegm cough reddish hue',\n",
       " 'feel realli drain cold stop cough hurt chest heart feel like race mucu cough gross brownish color',\n",
       " 'exhaust chilli stop cough pain chest make heart race cough mucou disgust brownish hue',\n",
       " 'chill feel exhaust seem shake cough chest hurt cough heart feel like go million mile hour phlegm cough dirti rust color',\n",
       " 'experienc chill feel worn seem get rid cough cough chest ach heart feel like beat million mile per hour cough nasti rust color phlegm',\n",
       " 'feel realli weak cold late cough go away hurt chest cough heart pound mucu bring rusti brown color',\n",
       " 'chill feel realli worn cough go away chest hurt cough heart race mucu bring gross brownish color',\n",
       " 'experienc chill feel realli exhaust cough go away cough chest ach heart pound disgust brownish hue mucou come',\n",
       " 'realli high fever troubl breath sweat lot feel realli cold tire heart beat realli fast brownish sputum',\n",
       " 'problem breath high fever perspir lot experienc extrem fatigu chilli heart race cough brownish mucu',\n",
       " 'temperatur high hard time breath sweat profus shake chill realli tire heart beat realli fast also brownish phlegm come',\n",
       " 'troubl breath fever realli high drench sweat shiver chill heart thump rapidli quit exhaust addit brownish phlegm',\n",
       " 'fever realli high troubl catch breath sweat lot feel cold tire heart beat realli fast also brownish phlegm come',\n",
       " 'realli high fever problem breath heart race quit quickli perspir lot feel chilli exhaust also cough brownish phlegm',\n",
       " 'feel realli sick high fever short breath sweat chill extrem fatigu heart rate rapid cough lot brownish sputum',\n",
       " 'high temperatur short breath sweat chill intens exhaust feel quit poorli cough lot brownish phlegm puls rate race',\n",
       " 'realli hard time catch breath sweat lot feel realli sick lot mucu throat chest hurt heart race mucu cough dark look like rust',\n",
       " 'sweat profus find difficult catch breath feel quit ill throat mucou heart pound chest ach cough thick mucou resembl rust',\n",
       " 'lot troubl breath realli uneasi feel unwel perspir lot chest hurt lot mucu throat heart race hue mucu cough',\n",
       " 'seem get enough air sweat lot feel well lot phlegm throat chest hurt heart race mucu cough reddish color',\n",
       " 'sweat profus seem get enough air throat fill lot mucu feel good heart pound chest ach cough reddish color mucou',\n",
       " 'seem catch breath sweat lot feel realli sick lot phlegm throat chest hurt heart race mucu cough yellowish',\n",
       " 'drip perspir seem catch breath throat fill lot phlegm feel aw heart pound chest ach cough brownish mucou',\n",
       " 'hard time breath feel realli uncomfort sweat lot lot phlegm throat chest hurt heart beat fast mucu cough brownish',\n",
       " 'troubl breath quit uneasi throat fill lot phlegm perspir lot heart race chest ach cough reddish mucou',\n",
       " 'seem catch breath sweat lot feel realli sick lot phlegm throat chest hurt heart race mucu cough brownish stringi',\n",
       " 'drip perspir seem catch breath throat fill lot phlegm feel aw heart pound chest ach cough stringi brownish mucou',\n",
       " 'drench sweat struggl breath feel well lot mucou throat chest ach heart race cough mucu crimson colour',\n",
       " 'feel lousi high temperatur short breath sweat chill extrem weari heart beat cough lot brownish phlegm',\n",
       " 'fever realli high difficulti breath drench sweat shiver chill quit fatigu heart race also expect brownish phlegm',\n",
       " 'get chill feel tire seem shake cough chest ach heart feel like race million mile per hour cough cough foul rusti phlegm',\n",
       " 'troubl breath realli uncomfort sweat profus lot mucu throat chest ach heart race cough dark mucou',\n",
       " 'got high fever seem catch breath sweat profus gener feel ill weak also quit thick black phlegm chest ach heart race rapidli',\n",
       " 'late experienc chill fatigu cough high fever difficulti breath sweat lot feel realli sick weak also phlegm realli thick dark',\n",
       " 'recent suffer chill lethargi cough high temperatur difficulti breath sweat profus gener feel ill weak also quit thick black phlegm',\n",
       " 'recent suffer chill lethargi cough high temperatur difficulti breath sweat profus gener feel ill weak also quit thick red phlegm',\n",
       " 'chill lethargi cough high temperatur difficulti breath late sweat profus gener feel ill weak also quit thick black phlegm',\n",
       " 'lot respiratori issu late along chill exhaust cough high temperatur sweat profus gener feel ill weak chest ach heart race rapidli',\n",
       " 'suffer chill tired cough recent sweat tremend feel overal unwel weak also thick black phlegm chest ach heart race',\n",
       " 'run temperatur seem catch breath sweat tremend feel overal unwel weak also thick black phlegm heart beat frantic chest hurt',\n",
       " 'drench sweat seem catch breath throat clog mucu miser heart race chest ach cough brownish stringi mucu',\n",
       " 'satur sweat struggl breath throat block mucou uncomfort heart race chest ach cough darkish stringi mucou',\n",
       " 'lot problem breath feel good sweat lot lot mucou throat chest hurt breath labour phlegm cough odd tint',\n",
       " 'lot difficulti breath feel well perspir lot chest hurt lot mucu throat troubl breath phlegm cough strang hue',\n",
       " 'cough lot feel incred chilli exhaust pretti high fever difficult breath perspir lot gener feel weak ill quit thick black phlegm',\n",
       " 'recent chill exhaust cough high temperatur breath issu perspir lot gener feel weak ill quit thick black phlegm heart race quit quickli',\n",
       " 'constip discomfort bowel motion anu pain recent bother anu quit inflam stool extrem bloodi',\n",
       " 'late experienc constip pain bowel movement pain anu stool also realli bloodi anu realli irrit',\n",
       " 'recent lot difficulti use restroom bowel movement extrem uncomfort difficult anu quit inflam stool extrem bloodi',\n",
       " 'lot troubl go bathroom late realli pain blood stool also pain irrit around anu',\n",
       " 'recent lot difficulti use restroom hurt lot notic blood stool around anu also experienc discomfort itch',\n",
       " 'late realli constip realli pain go bathroom also notic blood stool anu realli irrit',\n",
       " 'suffer sever constip late whenev go restroom hurt lot asid anu realli itchi observ blood stool',\n",
       " 'lot troubl go bathroom late realli pain also notic stool bloodi anu realli irrit',\n",
       " 'recent lot discomfort difficulti use restroom addit notic anu quit sore stool bloodi',\n",
       " 'terribl constip late go bathroom hurt lot asid anu realli itchi observ blood stool',\n",
       " 'quit constip late go restroom excruciatingli uncomfort also observ blood stool anu aggrav',\n",
       " 'lot troubl go bathroom late realli pain experienc pain anu stool also bloodi anu realli irrit',\n",
       " 'lot problem use restroom recent excruciatingli uncomfort feel agoni anu stool bloodi well anu realli inflam',\n",
       " 'troubl go restroom recent tri go realli uncomfort anu hurt lot also blood stool anu realli uncomfort',\n",
       " 'realli hard time go bathroom late realli pain tri go anu hurt lot also blood stool anu realli itchi',\n",
       " 'experienc problem use restroom recent quit difficult go hurt also experienc buttock sore bloodi stool anu also quit itch sensit',\n",
       " 'recent problem use restroom go incred difficult hurt addit experienc butt sore stool bloodi anu also quit itch aggrav',\n",
       " 'constip realli hard go bathroom go hurt stool bloodi also pain butt anu realli itchi irrit',\n",
       " 'sinc constip use restroom quit challeng go ach blood stool anu quit itchi irrit also experienc discomfort butt',\n",
       " 'constip made quit difficult use restroom stool bloodi go hurt addit anu quit itchi inflam experienc butt sore',\n",
       " 'incred difficult use restroom hurt lot stool bloodi butt hurt anu also quit itch aggrav',\n",
       " 'lot troubl go bathroom realli pain stool bloodi pain butt anu realli itchi irrit',\n",
       " 'troubl go bathroom realli hard go hurt anu realli sore bleed go realli pain realli uncomfort',\n",
       " 'find challeng use restroom go quit difficult ach go anu bleed realli uncomfort lot discomfort hurt extrem bad',\n",
       " 'difficulti use restroom difficult go ach anu quit pain bleed whenev go excruciatingli pain quit uneasi',\n",
       " 'late experienc constip pain bowel movement anu realli sore bleed go realli pain realli uncomfort',\n",
       " 'recent suffer constip digest discomfort anu quit pain bleed whenev go excruciatingli pain quit uneasi',\n",
       " 'constip sore bowel motion bother late go anu bleed realli uncomfort lot discomfort hurt extrem bad',\n",
       " 'lot troubl bowel movement late hard go hurt anu realli sore bleed go realli pain realli uncomfort',\n",
       " 'bowel motion realli difficult recent go difficult ach go anu bleed realli uncomfort lot discomfort hurt extrem bad',\n",
       " 'experienc lot bowel movement issu recent difficult go hurt anu quit pain bleed whenev go excruciatingli pain quit uneasi',\n",
       " 'lot troubl bowel movement late hard go hurt anu realli sore bleed go realli pain realli uncomfort',\n",
       " 'experienc lot problem bowel motion recent difficult go hurt anu quit pain bleed whenev go excruciatingli pain quit uneasi',\n",
       " 'bowel motion give lot problem right go difficult go hurt go anu bleed realli uncomfort lot discomfort hurt extrem bad',\n",
       " 'constip bowel motion hurt recent go anu bleed realli uncomfort lot discomfort hurt extrem bad',\n",
       " 'experienc lot bowel movement issu recent difficult go hurt anu quit pain bleed whenev go realli pain realli uncomfort',\n",
       " 'get lot bowel issu recent difficult go hurt anu quit pain bleed whenev go excruciatingli pain quit uneasi',\n",
       " 'realli hard time go bathroom late realli pain abl go everi day also lot pain anu around area stool realli bloodi anu feel realli irrit',\n",
       " 'find incred difficult recent use restroom go sporad hurt much anu surround region also quit pain anu feel realli aggrav stool extrem bloodi',\n",
       " 'lot troubl constip pain tri go bathroom hurt lot anu area around stool bloodi anu realli irrit',\n",
       " 'constip bowel movement discomfort common late region surround anu ach lot anu realli itchi stool bloodi',\n",
       " 'muscl feel realli weak neck extrem tight experienc lot stiff walk joint swollen walk also realli uncomfort',\n",
       " 'feel realli weak muscl neck realli stiff joint swell lot stiff move around also realli pain walk',\n",
       " 'muscl quit weak neck realli stiff joint swollen experienc lot stiff move around walk also excruciatingli uncomfort',\n",
       " 'feel realli weak muscl neck realli stiff joint swell hard move around walk realli pain',\n",
       " 'muscl realli weak neck extrem stiff joint swollen make difficult move walk excruciatingli uncomfort',\n",
       " 'experienc sever muscular weak neck realli stiff difficult move sinc joint swollen realli uncomfort walk',\n",
       " 'muscl feel realli weak neck extrem tight joint swollen make difficult move hurt lot walk',\n",
       " 'neck tens feel like muscl incred weak troubl move sinc joint enlarg walk quit pain',\n",
       " 'neck realli stiff terribl muscl weak due swell joint challeng move walk quit unpleas',\n",
       " 'feel realli weak muscl late neck realli stiff joint swell hard move around without feel stiff walk realli pain',\n",
       " 'recent muscl felt quit weak neck realli tight swollen joint find difficult move without becom stiff also realli uncomfort walk',\n",
       " 'experienc muscular weak stiff neck recent joint swollen make difficult walk without becom stiff walk also excruciatingli uncomfort',\n",
       " 'recent suffer neck muscl weak stiff joint enlarg difficult walk without feel stiff walk also excruciatingli uncomfort',\n",
       " 'late neck tight muscl weaken swell joint make difficult move without get stiff also agonisingli pain walk',\n",
       " 'feel realli weak muscl neck realli stiff joint swell hard move around without feel stiff walk realli pain',\n",
       " 'muscl feel realli weak neck extrem tight swollen joint find difficult move without becom stiff also realli uncomfort walk',\n",
       " 'muscl quit weak neck realli stiff joint swollen make difficult walk without becom stiff walk also excruciatingli uncomfort',\n",
       " 'muscl realli weak neck extrem stiff joint swollen make difficult walk without feel stiff walk also realli uncomfort',\n",
       " 'muscl quit weak neck realli stiff joint swollen make difficult move without becom stiff walk quit uncomfort well',\n",
       " 'neck realli tight muscl rather weak swell joint make hard move without get stiff addit walk quit unpleas',\n",
       " 'neck extrem tight muscl feel extrem weak difficult move around without becom stiff due swollen joint walk also extrem uncomfort',\n",
       " 'neck extrem stiff muscl extrem weak result swell joint find difficult move around without feel stiff addit walk extrem uneasi',\n",
       " 'experienc stiff weak neck muscl recent sinc joint grown hard walk without get stiff addit walk extrem uncomfort',\n",
       " 'neck extrem tight muscl feel extrem weak joint swollen walk around lot stiff addit walk extrem uneasi',\n",
       " 'muscl quit weak neck realli stiff joint swollen make difficult walk without feel stiff walk also realli uncomfort',\n",
       " 'experienc sever muscular weak neck realli stiff swollen joint find difficult move without becom stiff also realli uncomfort walk',\n",
       " 'feel realli weak muscl late neck realli stiff joint swollen hard move around also pain walk',\n",
       " 'feel truli frail muscl recent neck truli solid swollen joint make difficult move around walk also difficult',\n",
       " 'recent muscl felt quit weak neck realli tight swollen joint make difficult move walk also pain',\n",
       " 'experienc muscular weak stiff neck recent joint enlarg make difficult move walk also difficult',\n",
       " 'feel truli frail muscl recent neck truli solid difficult move around joint swell walk also extrem pain',\n",
       " 'muscl feel feebl recent neck rock solid joint becom swollen make difficult move walk quit uncomfort well',\n",
       " 'muscl feel rather weak late neck realli strong joint swollen make challeng move also excruciatingli difficult walk',\n",
       " 'neck extrem tight muscl felt quit weak recent difficult move around without becom stiff due swollen joint walk also extrem uncomfort',\n",
       " 'experienc stiff weak neck muscl recent sinc joint grownup heavi behalf pine tree state run wherea get stiff addit walk terribl uncomfort',\n",
       " 'experienc muscular weak stiff neck recent joint swollen creat troublesom behalf run regard chang stiff walk addit agonizingli uncomfort',\n",
       " 'muscl quit weak neck stiff joint swollen creat troublesom behalf steer concern feel stiff walk conjointli uncomfort',\n",
       " 'muscl area unit quit weak neck terribl stiff joint swollen make hard behalf main steer regard wherea feel stiff walk put togeth terribl uncomfort',\n",
       " 'experienc stiff weak neck muscl recent sinc joint grownup oner behalf run obtain stiff addit walk extraordinarili uncomfort',\n",
       " 'neck tight muscl felt quit weak recent tough behalf maneuv around chang stiff thank swollen joint walk addit uncomfort',\n",
       " 'recent tri walk stiff stiff neck swollen joint muscular weak walk also realli uncomfort',\n",
       " 'late experienc muscl weak stiff neck swell joint stiff attempt move around also pain steer',\n",
       " 'recent muscl neck becom tight weak difficult run sinc joint older without get tight act walk also quit unpleas',\n",
       " 'experienc stiff weak neck muscl recent sinc joint grownup heavi behalf american state run wherea get stiff addit walk uncomfort',\n",
       " 'recent muscl neck becom tight weak sinc joint matur difficult american govern run without becom stiff walk also quit unpleas',\n",
       " 'late stiff weak neck muscl sinc joint matur difficult american state oper without becom stiff furthermor walk quit pain',\n",
       " 'realli bad rash skin late full pu fill pimpl blackhead skin also scur lot',\n",
       " 'develop sever rash skin clog pu fill pimpl blackhead skin also quit sensit',\n",
       " 'skin break terribl rash late blackhead pu fill pimpl abound addit skin scur lot',\n",
       " 'recent experienc sever skin rash blackhead pimpl pack pu everywher addit skin scur lot',\n",
       " 'unhealthi rash skin latterli fill pu fill pimpl blackhead skin addit scur heap',\n",
       " 'skin acquir nasti rash full pu fill pimpl blackhead skin realli sensit well',\n",
       " 'nasti rash appear skin blackhead pimpl pack pu everywher addit skin extrem sensit',\n",
       " 'recent experienc sever skin rash blackhead pimpl fill pu clog addit skin quit irrit',\n",
       " 'skin recent sever rashi blackhead pu fill pimpl block skin quit delic well',\n",
       " 'late experienc skin rash lot pu fill pimpl blackhead skin also scur lot',\n",
       " 'skin rash sever pu fill pimpl blackhead bother late addit skin scur lot',\n",
       " 'skin develop revolt rash pu fill pimpl blackhead everywher skin also realli sensit',\n",
       " 'skin develop horribl rash blackhead pu fill pimpl everywher furthermor skin exceedingli sensit',\n",
       " 'skin simpli nonherit nasti rash pack pu fill pimpl blackhead skin sensit moreov',\n",
       " 'skin develop terribl rash inherit lot blackhead pu fill pimpl furthermor skin exceedingli sensit',\n",
       " 'recent experienc lot acn breakout pimpl contain pu also struggl blackhead',\n",
       " 'woke morn found realli nasti rash skin ton blackhead pimpl fill pu skin also realli scurri',\n",
       " 'notic realli nasti rash skin late cover blackhead pimpl pack pu skin also realli scurri',\n",
       " 'develop realli nasti rash skin ton blackhead pimpl fill pu skin also realli scurri',\n",
       " 'deal realli nasti rash skin late cover blackhead pimpl pack pu skin also realli scurri',\n",
       " 'woke morn find realli nasti rash skin ton blackhead pimpl fill pu skin also realli scurri',\n",
       " 'struggl realli nasti rash skin late cover blackhead pimpl pack pu skin also realli scurri',\n",
       " 'recent develop terribl rash skin riddl blackhead pu fill pimpl skin also scurri everywher',\n",
       " 'recent horribl rash skin sever blackhead pu fill pimpl skin also move around lot',\n",
       " 'morn woke discov extrem bad rash bodi sever pu fill pimpl blackhead around skin also move around lot',\n",
       " 'awok morn see horribl rash skin sever blackhead pimpl load pu skin also scurri',\n",
       " 'develop skin rash sever pu fill pimpl blackhead skin also quit sensit',\n",
       " 'woke morn find terribl rash bodi blackhead pu fill pimpl place addit skin chang lot',\n",
       " 'awok morn realis sever rash bodi mani pu fill pimpl blackhead place skin also scur lot',\n",
       " 'recent develop terribl rash skin riddl blackhead pu fill pimpl skin also scurri',\n",
       " 'awok morn see horribl rash skin sever blackhead pimpl load pu skin also scurri',\n",
       " 'morn woke discov extrem bad rash skin sever pu fill pimpl blackhead around skin also move around lot',\n",
       " 'recent battl pretti itchi rash skin pu fill pimpl blackhead skin also scur lot',\n",
       " 'morn realiz major rash bodi lot pimpl fill pu blackhead everywher skin scurri lot',\n",
       " 'woke today find major rash bodi lot pimpl fill pu blackhead everywher skin scurri lot',\n",
       " 'woke morn find major rash bodi cover pu fill pimpl blackhead skin scurri lot',\n",
       " 'morn saw larg rash bodi lot pu fill pimpl blackhead face skin scurri lot',\n",
       " 'discov signific rash bodi morn blackhead pu fill pimpl prolifer skin scurri lot',\n",
       " 'yesterday notic enorm rash skin lot pu fill pimpl blackhead face skin scurri lot',\n",
       " 'discov huge rash skin yesterday face cover blackhead pu fill pimpl skin crawl lot',\n",
       " 'skin horribl rash absolut nonherit blackhead pu fill pimpl abound addit skin quit sensit',\n",
       " 'skin mere develop uninherit rash lot pu fill pimpl blackhead furthermor skin quit sensit',\n",
       " 'awok morn saw sever rash across skin mani pu fill pimpl blackhead place skin also shift lot',\n",
       " 'woke morn saw terribl rash skin blackhead pu fill pimpl place addit skin shift lot',\n",
       " 'recent struggl realli irrit skin rash blackhead pu fill pimpl addit skin scur lot',\n",
       " 'recent deal itch rash skin cover pu fill pimpl blackhead skin also quit sensit',\n",
       " 'feel extrem tire weak also cough lot difficulti breath fever high produc lot mucu cough',\n",
       " 'got cough go away exhaust cough thick mucou fever also pretti high',\n",
       " 'persist cough feel quit fatigu fever roof troubl breath cough also cough lot mucou',\n",
       " 'issu exhaust dri cough breath high fever cough lot thick mucoid phlegm',\n",
       " 'feel realli fatigu weak bad cough fever realli high breath becom shallow cough lot saliva come well',\n",
       " 'lot sleepi cough refus go away breath difficulti cough lot thick mucoid saliva high fever',\n",
       " 'doctor high fever sinc past day saliva also becam thick dri cough weak also seen',\n",
       " 'cough continu day feel realli weak tire fever high breath becom strain cough also gener lot mucu',\n",
       " 'mom dad feel realli tire weak late cough go away hard catch breath fever realli high cough produc lot mucu',\n",
       " 'hey mom hey dad feel realli exhaust late persist cough breath becom shallow fever high also cough lot thick mucoid sputum',\n",
       " 'recent felt quit weak exhaust also cough simpli go away fever realli high challeng catch breath make lot mucou cough',\n",
       " 'felt terribl weak drain also cough go away fever except high challeng tri catch breath creat lot mucou cough',\n",
       " 'feel realli tire weak late cough go away breath becom shallow fever realli high cough produc lot thick mucoid sputum',\n",
       " 'feel extrem exhaust persist cough hard catch breath fever high also produc lot mucu cough',\n",
       " 'struggl fatigu constant cough make difficult breath fever high cough lot thick mucoid sputum',\n",
       " 'nag cough go away breath becom labor fever also high feel weak tire produc lot mucu cough',\n",
       " 'experienc high fever persist cough short breath also produc lot thick mucoid sputum feel tire weak',\n",
       " 'breath issu persist cough exhaust cough lot thick mucoid sputum high fever feel drain tire deal',\n",
       " 'cough linger day difficulti breath fever sky high feel weak tire also produc lot mucu cough overwhelm deal symptom get frustrat',\n",
       " 'persist cough day also breath problem weak exhaust fever roof difficult manag symptom also cough lot mucu becom angri everyth',\n",
       " 'struggl difficulti breath constant cough fatigu fever extrem high cough lot thick mucoid sputum hard deal feel drain worn',\n",
       " 'breath issu persist cough exhaust cough lot thick mucoid sputum high fever feel exhaust tire cope',\n",
       " 'feel realli ill late persist cough difficulti breath fever chart also feel extrem exhaust produc lot mucu cough overwhelm deal symptom',\n",
       " 'recent feel terribl fever roof persist cough breath problem cough lot phlegm also feel quit weari deal symptom quit difficult',\n",
       " 'fever cough go away short breath addit cough lot thick mucoid saliva feel quit worn weak',\n",
       " 'hey dri cough breath difficulti well high fever lot mucou produc feel incred weak tire',\n",
       " 'recent number concern symptom includ dri cough impair breath high fever lot mucu also feel weak tire',\n",
       " 'current deal number health issu includ dri cough difficulti breath high fever increas mucu product also feel weak tire',\n",
       " 'week suffer contini health issu like dri cough problem breath weak throughout day',\n",
       " 'doctor coupl day abl breth propelri lie bed due high fever lot mucu get pleas suggest medicin',\n",
       " 'experienc short breath persist cough high fever also produc lot thick mucoid sputum feel drain exhaust hard deal',\n",
       " 'weak exhaust fever roof difficult manag symptom also cough lot mucu becom angri everyth',\n",
       " 'must confess experienc short breath persist cough high fever also produc lot thick mucoid sputum feel quit drain exhaust rather tough deal feel quit sick moment',\n",
       " 'must admit high fever persist cough short breath addit cough lot thick mucoid saliva feel realli deplet worn',\n",
       " 'tough time constant cough difficulti breath fatigu fever high cough lot thick mucoid sputum rather drain exhaust feel quit sick moment',\n",
       " 'struggl persist cough breath issu exhaust cough lot thick mucoid sputum high fever realli tire exhaust right feel rather ill',\n",
       " 'deal bad cough breath issu drowsi cough lot thick mucoid sputum high fever realli exhaust exhaust right feel rather ill',\n",
       " 'persist cough breath problem exhaust make thing difficult produc copiou amount thick mucoid sputum also high fever current feel fairli ill everyth tire exhaust',\n",
       " 'persist cough respiratori issu exhaust struggl high fever produc lot thick mucoid sputum cough current feel rather sick result drain tiresom everyth',\n",
       " 'fever roof weak tire cough lot mucou manag symptom realli hard everyth make upset',\n",
       " 'doctor due high fever abl breath via nose mouth day feelinf tire pleas recommend medic',\n",
       " 'hey got dri cough troubl breath high fever produc lot mucu feel quit weak exhaust',\n",
       " 'cough nonstop day also respiratori issu fever roof weak worn symptom realli challeng control',\n",
       " 'addit sleepi troubl breath due persist cough cough lot thick mucoid sputum high fever',\n",
       " 'struggl breath cough constantli feel worn high fever cough lot thick mucoid saliva simpli feel worn exhaust tri deal everyth',\n",
       " 'experienc difficulti breath chronic cough weari produc lot thick mucoid sputum also run high temperatur due cope simpli feel extrem worn exhaust',\n",
       " 'hello mom father recent felt incred worn cough go away fever realli high breath becom shallow addit cough lot mucou thick sputum',\n",
       " 'doctor due high fever abl breath via nose mouth day feel tire sometim mucu seen pleas recommend medic',\n",
       " 'ongo health problem week includ dri cough breath difficulti gener weak',\n",
       " 'experienc headach chest pain dizzi difficulti maintain balanc also feel like troubl concentr',\n",
       " 'along headach chest pain instabl balanc issu also feel dizzi also think problem focus',\n",
       " 'along head pain chest pain instabl balanc issu also feel unwel also think problem focus',\n",
       " 'addit head pain chest pain instabl balanc issu alreadi feel unwel also suppos issu focus',\n",
       " 'experienc balanc issu headach chest pain dizzi abil concentr focu also challeng',\n",
       " 'headach chest pain dizzi troubl balanc also hard focu concentr',\n",
       " 'encount troubl walk headach chest pain dizzi concentr skill focu also challeng',\n",
       " 'encount poor balanc headach chest pain dizzi abil pay attent focu also problemat',\n",
       " 'coordin experienc headach chest pain dizzi addit troubl concentr focus',\n",
       " 'symptom includ headach chest pain dizzi lack balanc troubl concentr',\n",
       " 'experienc symptom headach chest pain dizzi loss balanc difficulti focus',\n",
       " 'suffer symptom includ headach chest pain dizzi lose balanc troubl concentr',\n",
       " 'headach chest discomfort dizzi lack balanc difficulti concentr symptom',\n",
       " 'along headach chest pain also experienc faint balanc issu addit discov hard focu',\n",
       " 'experienc balanc issu headach chest pain dizzi also realis troubl focus',\n",
       " 'balanc headach chest pain dizzi also observ hard concentr',\n",
       " 'experienc balanc issu chest pain headach pain troubl focus well',\n",
       " 'experienc chest pain dizzi headach feel like continu pressur forehead',\n",
       " 'feel lighthead unsteadi feet also notic declin abil focu concentr',\n",
       " 'experienc dizzi shaki well loss attent span abil concentr',\n",
       " 'experienc dizzi anxious well loss attent concentr abil concentr',\n",
       " 'intens ach chest headach go away feel dizzi unsteadi',\n",
       " 'intens ach chest head pain refus go away feel dizzi unsteadi',\n",
       " 'along chest pain dizzi headach feel like narrow zone around head lot troubl',\n",
       " 'struggl headach feel like tight band around head along chest pain dizzi',\n",
       " 'experienc balanc issu addit feel disori dizzi headach also present nonstop',\n",
       " 'feel disori dizzi also troubl keep balanc headach constant presenc well',\n",
       " 'experienc balanc issu along feel dizzi lighthead addit seen drop concentr focu',\n",
       " 'addit feel dizzi lighthead problem keep equilibrium capac concentr focu also slip notic',\n",
       " 'experienc headach feel like sharp pain templ along chest pain dizzi',\n",
       " 'along chest pain dizzi headach seem like sharp pain forehead',\n",
       " 'feel fine day suddenli develop headach chest pain dizzi walk hard focu concentr sinc',\n",
       " 'take walk suddenli start experienc headach chest pain dizzi feel fine day sinc challeng concentr focu',\n",
       " 'woke morn headach chest pain day gone also feel dizzi unsteadi feet',\n",
       " 'headach chest pain morn day wore also start feel unsteadi unstabl feet',\n",
       " 'deal headach chest pain day today dizzi loss balanc becam much wors',\n",
       " 'day suffer headach chest pain today dizzi lack balanc got consider wors',\n",
       " 'work start feel headach chest pain dizzi hard concentr focu task sinc',\n",
       " 'first experienc headach chest pain lightheaded work sinc challeng focu concentr work',\n",
       " 'middl workout suddenli develop headach chest pain dizzi hard maintain balanc sinc',\n",
       " 'instantli experienc headach chest pain dizzi work sinc challeng keep balanc',\n",
       " 'feel fine day suddenli develop headach chest pain dizzi drive home work hard focu concentr road sinc',\n",
       " 'felt fine day drive home work suddenli start headach chest discomfort dizzi sinc challeng concentr focu drive',\n",
       " 'shop start feel headach chest pain dizzi hard focu concentr task sinc',\n",
       " 'first experienc headach chest pain lightheaded shop sinc difficult concentr work',\n",
       " 'woke morn feel fine day went start experienc headach chest pain dizzi hard focu concentr work sinc',\n",
       " 'felt good woke morn day wore began feel headachey sick stomach dizzi sinc challeng concentr focu work',\n",
       " 'middl meet suddenli develop headach chest pain dizzi hard focu concentr discuss sinc',\n",
       " 'suddenli experienc headach chest pain dizzi middl confer sinc challeng concentr focu topic',\n",
       " 'feel fine day suddenli develop headach chest pain dizzi run hard maintain balanc sinc',\n",
       " 'experienc acid indigest meal well frequent headach blur vision',\n",
       " 'get frequent headach hazi vision well acid reflux indigest meal',\n",
       " 'troubl vision see thing distort experienc visual disturb',\n",
       " 'suffer visual disrupt see thing distort eyesight problem',\n",
       " 'face visual disrupt see thing distort eyesight difficulti',\n",
       " 'feel excess hungri even eat stiff neck',\n",
       " 'grumpi gloomi late also notic chang vision',\n",
       " 'feel depress irrit notic chang vision',\n",
       " 'irrit depress late also notic chang vision',\n",
       " 'along recurr headach blur vision suffer acid reflux troubl digest food',\n",
       " 'experienc acid reflux difficulti digest food along regular headach impair vision',\n",
       " 'feel hungri time sore neck well problem vision',\n",
       " 'addit stiff neck eye issu alway hungri',\n",
       " 'experienc acid indigest headach blur distort vision well excess hunger stiff neck depress irrit visual disturb',\n",
       " 'along excess appetit stiff neck depress impati visual disturb also indigest headach blur vision acid reflux',\n",
       " 'along excess appetit stiff neck depress impati visual disturb also suffer indigest headach blur vision stomach problem',\n",
       " 'suffer acid reflux indigest frequent headach impair vision well excess hunger sore neck depress irrit visual disturb',\n",
       " 'along increas hunger sore neck melancholi impati visual distort also experienc acid reflux indigest frequent headach blur eyesight',\n",
       " 'togeth increas hunger sore neck anxieti irrit visual distort also experienc acid reflux indigest frequent headach impair eyesight',\n",
       " 'experienc digest issu includ acid indigest well regular headach distort vision excess hunger stiff neck depress irrit visual disturb',\n",
       " 'addit recurr headach blur vision increas appetit stiff neck sad irrit visual disturb stomach problem includ indigest acid',\n",
       " 'add frequent headach blur vision increas appetit stiff neck anxieti irrit visual disturb stomach problem includ indigest acid',\n",
       " 'struggl acid reflux indigest headach well blur distort vision excess hunger sore neck depress irrit visual disturb',\n",
       " 'along headach indigest acid reflux excess appetit sore neck sad impati visual disturb also experienc blur distort vision',\n",
       " 'along headach indigest acid reflux excess appetit sore neck sad impati visual disturb also feel blur distort vision',\n",
       " 'experienc digest issu includ acid indigest well frequent headach impair vision excess hunger stiff neck depress irrit visual disturb',\n",
       " 'acid indigest among digest problem along regular headach blur vision increas hunger stiff neck sad impati visual disrupt',\n",
       " 'suffer acid reflux indigest regular headach well distort vision excess hunger sore neck depress irrit visual disturb',\n",
       " 'along distort eyesight excess appetit pain neck melancholi irrit regular headach also experienc acid reflux indigest regular headach',\n",
       " 'along distort eyesight excess appetit pain neck anxieti irrit regular headach also battl acid reflux indigest regular headach',\n",
       " 'experienc acid indigest frequent headach well blur distort vision excess hunger stiff neck depress irrit visual disturb',\n",
       " 'stomach acid indigest frequent headach hazi distort vision increas appetit stiff neck depress irrit visual distort bother',\n",
       " 'struggl digest issu includ acid reflux indigest well regular headach impair vision excess hunger sore neck depress irrit visual disturb',\n",
       " 'experienc frequent headach blur vision excess appetit sore neck sad irrit digest problem includ indigest acid reflux',\n",
       " 'endur frequent headach blur vision excess appetit sore neck anxieti irrit digest difficulti includ indigest acid reflux',\n",
       " 'experienc acid indigest headach well blur distort vision excess hunger stiff neck depress irrit visual disturb',\n",
       " 'along excess appetit stiff neck headach indigest acid reflux also experienc sad impati visual distort',\n",
       " 'suffer acid reflux indigest frequent headach well distort vision excess hunger sore neck depress irrit visual disturb',\n",
       " 'along impair eyesight increas appetit sore neck melancholi impati regular headach also experienc heartburn acid reflux indigest',\n",
       " 'along impair see excess eat sore neck melancholi impati constant headach also fight heartburn acid reflux indigest',\n",
       " 'experienc acid indigest headach blur distort vision well excess hunger stiff neck depress irrit visual disturb symptom affect daili life caus discomfort',\n",
       " 'along excess appetit stiff neck depress impati visual disturb also indigest headach blur vision acid reflux symptom bother interf usual activ',\n",
       " 'well excess appetit tens neck depress irrit visual disturb also indigest headach blur vision acid reflux symptom disturb interf usual activ',\n",
       " 'suffer acid reflux indigest regular headach well impair vision excess hunger sore neck depress irrit visual disturb symptom caus lot distress make difficult go daili activ',\n",
       " 'along eyesight problem increas appetit sore neck melancholi irrit regular headach also experienc acid reflux indigest frequent migrain regular activ made challeng symptom caus great deal distress',\n",
       " 'along eyesight problem increas appetit sore neck melancholi irrit regular headach also experienc acid reflux indigest frequent dizzi regular activ made tough symptom caus great deal distress',\n",
       " 'struggl acid reflux indigest headach well blur distort vision excess hunger sore neck depress irrit visual disturb symptom caus lot problem make difficult concentr function normal',\n",
       " 'experienc sever back pain persist cough weak limb neck also hurt feel dizzi balanc',\n",
       " 'along chronic cough limb weak deal excruci back discomfort experienc neck pain well vertigo instabl',\n",
       " 'suffer back pain hack cough weak arm leg addit neck hurt issu dizzi maintain balanc',\n",
       " 'back pain hack cough numb arm leg bother addit neck hurt troubl stay balanc without get lighthead',\n",
       " 'back pain cough cough numb arm leg plagu addit neck hurt troubl stay balanc without get woozi',\n",
       " 'pain typic cough cough numb arm leg plagu addit neck hurt troubl stay balanc without get woozi',\n",
       " 'struggl back pain cough go away weak extrem neck hurt problem dizzi lose balanc',\n",
       " 'back discomfort persist cough weak limb bother issu vertigo lose equilibrium neck hurt',\n",
       " 'back discomfort breath difficulti weak limb hurt issu vertigo lose balanc neck hurt',\n",
       " 'experienc intens back pain dri cough lack strength limb neck hurt feel dizzi unsteadi feet',\n",
       " 'struggl sever back pain dri cough limb weak feel lighthead wobbl feet neck hurt',\n",
       " 'battl back pain dri cough limb weak feel dizzi unstabl feet neck hurt',\n",
       " 'struggl back pain chronic cough limb weak feel disori weak feet neck hurt',\n",
       " 'suffer back pain product cough weak limb neck sore issu dizzi balanc',\n",
       " 'back pain product cough limb weak bother balanc dizzi concern neck hurt',\n",
       " 'backach difficulti breath limb weak bother balanc dizzi concern neck suffer',\n",
       " 'struggl back pain persist cough weak muscl neck hurt problem dizzi loss balanc',\n",
       " 'back pain linger cough muscl weak bother issu dizzi lose equilibrium neck hurt',\n",
       " 'back pain chronic cough muscl weak bother concern dizzi lose posit neck hurt',\n",
       " 'experienc sever back pain cough come goe weak limb neck also hurt feel dizzi balanc',\n",
       " 'intermitt cough fit signific back pain limb weak experienc neck pain well dizzi unsteadi sensat',\n",
       " 'period cough fit terribl back pain limb weak feel neck pain well dizzi unstabl sensat',\n",
       " 'deal back pain cough go away weak arm leg neck hurt problem dizzi maintain balanc',\n",
       " 'back pain persist cough numb arm leg bother troubl stay balanc experienc dizzi neck hurt',\n",
       " 'back pain dri cough stiff arm leg bother problem stay balanc experi dizzi neck hurt',\n",
       " 'experienc back pain persist cough numb arm leg troubl stay balanc manag vertigo neck hurt',\n",
       " 'arm leg weak suffer back pain persist cough addit experienc neck pain balanc issu also suffer dizzi',\n",
       " 'back pain persist cough arm leg weak bother experienc neck pain balanc issu dizzi',\n",
       " 'suffer back pain dri cough lack strength muscl neck sore feel dizzi unsteadi feet',\n",
       " 'back pain dri cough lack muscl strength bother neck hurt feel lighthead shaki',\n",
       " 'muscl lack strength experienc back pain dri cough experienc neck pain feel lighthead unstabl feet',\n",
       " 'muscl strong experienc back ach feel lighthead wobbl feet neck hurt',\n",
       " 'experienc back pain dri cough muscl weak experienc neck pain feel lighthead troubl stand still',\n",
       " 'struggl intens back pain chronic cough weak arm leg neck sore problem dizzi loss balanc',\n",
       " 'terribl back pain persist cough weak arm leg issu dizzi balanc loss neck hurt',\n",
       " 'suffer sever back pain persist cough numb arm leg experienc issu vertigo balanc issu neck hurt',\n",
       " 'along persist cough weak arm leg sever back pain lot troubl experienc issu vertigo balanc loss neck hurt',\n",
       " 'experienc sever back pain cough produc phlegm weak muscl neck also hurt feel dizzi unsteadi feet',\n",
       " 'addit excruci back pain also cough mucu feel weak feel lighthead unstabl feet neck hurt well',\n",
       " 'muscl quit weak cough phlegm along signific back discomfort addit feel weak disori neck hurt',\n",
       " 'along phlegmi cough muscl weak deal excruci back pain addit feel woozi shaki feet neck hurt',\n",
       " 'deal back pain persist cough weak limb neck sore issu dizzi loss balanc',\n",
       " 'back ach chronic cough limb weak bother troubl disorient balanc loss neck hurt',\n",
       " 'back pain cough go away limb weak experienc neck pain instabl balanc concern',\n",
       " 'suffer back pain chronic cough weak arm leg neck hurt feel dizzi balanc',\n",
       " 'back pain persist cough numb arm leg bother neck hurt feel lighthead unsteadi',\n",
       " 'back pain persist cough weak arm leg neck hurt feel balanc woozi',\n",
       " 'struggl back pain product cough weak muscl neck sore problem dizzi unsteadi balanc',\n",
       " 'back pain product cough muscl weak bother issu dizzi uneven balanc neck hurt',\n",
       " 'experienc intens itch vomit fatigu also lost weight high fever skin turn yellow urin dark also experienc abdomin pain',\n",
       " 'feel extrem scratchi sick worn addit lost weight temperatur urin dark skin turn yellow addit stomach pain',\n",
       " 'felt realli scratchi nauseat worn also high fever lost weight skin urin becom yellow addit stomach hurt',\n",
       " 'extrem itchi sick exhaust plagu addit develop fever lost weight pee black develop yellow rash addit stomach ach',\n",
       " 'sever itch vomit also tire lost weight fever high skin turn yellow urin dark experienc abdomin pain',\n",
       " 'experienc intens itch nausea lost weight also realli exhaust skin becom yellow sever fever dark urin stomach pain',\n",
       " 'throw experienc intens itch along lose weight also realli exhaust skin becom yellow fever realli high stomach pain pee black',\n",
       " 'strong itchi nausea bother also lost weight realli exhaust high fever skin becom yellow addit feel stomach ach pee black',\n",
       " 'experienc terribl itch nausea lost weight also realli exhaust skin becom yellow sever temperatur dark urin stomach ach',\n",
       " 'feel itchi vomit also fatigu lost weight fever high skin becom yellow urin dark abdomin pain',\n",
       " 'feel scratchi throw lost weight also realli exhaust skin becom yellow sever fever stomach ach black urin',\n",
       " 'itchi throw along lose weight also realli exhaust skin turn yellow fever high addit get stomach ach dark urin',\n",
       " 'scratchi stomach throw asid lose weight also realli exhaust high fever yellow skin besid stomach ach pee black',\n",
       " 'itchi throw addit lost weight feel realli exhaust skin becom yellow sever temperatur abdomin ach black urin',\n",
       " 'exhaust experienc nausea itch addit lost weight temperatur urin dark skin turn yellow addit stomach pain',\n",
       " 'suffer itch vomit fatigu also lost weight high fever skin turn yellow urin dark also experienc abdomin pain',\n",
       " 'feel scratchi sick worn also high fever lost weight skin urin becom yellow addit stomach pain',\n",
       " 'itch nausea weari bother addit develop fever lost weight pee black develop yellow rash addit stomach ach',\n",
       " 'nausea vomit exhaust addit lost weight temperatur urin black skin turn yellow also stomach pain',\n",
       " 'experienc intens itch vomit fatigu also lost weight high fever skin turn yellow urin dark abdomin pain well',\n",
       " 'feel extrem scratchi sick worn addit lost weight temperatur urin dark skin turn yellow addit experienc stomach pain',\n",
       " 'constantli feel scratchi sick tire addit lost weight temperatur urin dark skin turn yellow furthermor experienc stomach pain',\n",
       " 'felt realli scratchi nauseat worn also high fever lost weight skin urin becom yellow also experienc stomach pain',\n",
       " 'sever itch vomit fatigu also lost weight high fever skin turn yellow urin dark also experienc abdomin pain',\n",
       " 'feel realli scratchi dizzi worn addit lost weight temperatur urin dark skin turn yellow addit get stomach pain',\n",
       " 'experienc intens itchi nausea exhaust also high fever lost weight skin urin becom yellow addit stomach hurt',\n",
       " 'extrem itchi nausea exhaust bother addit develop fever lost weight pee black develop yellow rash ach stomach also present',\n",
       " 'extrem itchi nausea fatigu troubl moreov experienc fever lost weight pee black develop yellow rash ach stomach also present',\n",
       " 'feel itchi vomit also tire lost weight fever high skin becom yellow experienc abdomin pain well',\n",
       " 'itchi throw along lose weight also realli exhaust skin turn yellow fever high stomach also hurt recent',\n",
       " 'scratchi stomach throw also lost weight realli exhaust high fever yellow skin well stomach pain',\n",
       " 'itchi throw lost weight also realli exhaust skin becom yellow sever temperatur stomach also hurt',\n",
       " 'experienc itch vomit fatigu weight loss fever high skin turn yellow urin dark experienc abdomin pain',\n",
       " 'lose weight experienc nausea itch exhaust skin becom yellow sever fever dark urin stomach pain',\n",
       " 'suffer intens itch vomit fatigu weight loss fever high skin turn yellow urin dark experienc abdomin pain',\n",
       " 'lose weight experienc sever itch nausea exhaust skin becom yellow sever fever dark urin stomach pain',\n",
       " 'experienc sever itch vomit fatigu weight loss fever high skin turn yellow urin dark experienc abdomin pain',\n",
       " 'lose weight feel realli fatigu throw lot skin becom yellow sever fever dark urin stomach pain',\n",
       " 'experienc sever itch chill vomit high fever also sweat lot headach feel nauseou muscl realli sore',\n",
       " 'high temperatur vomit chill intens itch also headach perspir lot queasi muscl hurt lot',\n",
       " 'strong itchi chill nausea high temperatur plagu besid headach also perspir lot muscl quit sore feel sick',\n",
       " 'along intens scratch chill nausea high fever also feel realli unwel along headach excess sweat muscl hurt lot feel queasi',\n",
       " 'high fever chill intens itch addit headach perspir lot muscl hurt lot feel sick',\n",
       " 'intens itch bodi accompani chill vomit fever realli high sweat excess also headach feel nauseou muscl realli pain',\n",
       " 'experienc sever bodi itchi chill vomit realli high fever perspir lot also feel queasi headach muscl excruci discomfort',\n",
       " 'along sever bodi itchi chill nausea experienc sever perspir high fever feel queasi also headach realli hurt muscl',\n",
       " 'experienc sever bodi itchi along chill nausea perspir lot extrem high fever feel sick stomach headach muscl hurt lot',\n",
       " 'suffer intens itch chill vomit high fever also sweat lot headach nausea muscl pain also bother',\n",
       " 'high fever sever itch chill vomit also headach perspir lot addit hurt nausea muscl sore',\n",
       " 'high temperatur vomit chill sever itch addit perspir lot headach also bother nausea muscl ach',\n",
       " 'strong itchi chill nausea high fever part current condit besid headach perspir lot bother nausea well muscl ach',\n",
       " 'high fever chill sever itch addit headach perspir lot also bother nausea muscular ach',\n",
       " 'experienc sever itch chill vomit high fever also sweat excess headach nausea muscl pain also caus discomfort',\n",
       " 'high temperatur vomit chill intens itch also headach perspir lot discomfort also brought nausea muscl ach',\n",
       " 'strong itchi chill nausea high temperatur plagu along headach also perspir lot also bother nausea muscl ach',\n",
       " 'along intens scratch chill nausea high fever also feel realli unwel headach also perspir lot uncomfort nausea muscl ach',\n",
       " 'high fever chill intens itch addit headach perspir lot suffer nausea well muscl ach',\n",
       " 'intens itch chill vomit high fever also sweat lot headach nausea muscl pain make feel miser',\n",
       " 'experienc lot scratch chill vomit fever also headach perspir lot terribl nausea sore muscl',\n",
       " 'experienc sever itch chill nausea high fever besid headach also perspir lot terribl nausea muscl ach',\n",
       " 'high fever chill sever itch along headach excess sweat terribl nausea muscl ach',\n",
       " 'high fever chill sever itch addit headach perspir lot feel aw nausea muscl ach',\n",
       " 'experienc sever itch chill vomit high fever also sweat lot headach nausea muscl pain caus lot discomfort',\n",
       " 'high temperatur vomit chill intens itch also headach perspir lot realli uncomfort late nausea muscl ach',\n",
       " 'strong itchi chill nausea high temperatur plagu besid headach also perspir lot suffer sever muscl pain nausea',\n",
       " 'along intens scratch chill nausea high fever also feel realli unwel along headach excess sweat suffer sever muscl pain nausea',\n",
       " 'high fever chill intens itch addit headach perspir lot lot agoni muscl ach nausea',\n",
       " 'intens itch chill vomit high fever also sweat excess headach nausea muscl pain also bother',\n",
       " 'experienc lot scratch chill vomit fever also headach perspir lot addit hurt nausea muscl sore',\n",
       " 'experienc sever itch chill nausea high fever along headach also perspir lot also bother nausea muscl ach',\n",
       " 'high fever chill sever itch headach also perspir lot bother nausea well muscl ach',\n",
       " 'experienc sever itch chill vomit high fever addit headach perspir lot also bother nausea muscular ach',\n",
       " 'suffer sever itch chill vomit high fever also sweat lot headach nausea muscl pain also caus discomfort',\n",
       " 'high fever sever itch chill vomit also headach perspir lot discomfort also brought nausea muscl ach',\n",
       " 'high fever sever itch chill vomit addit perspir lot headach also bother nausea muscl ach',\n",
       " 'strong itchi chill nausea high fever part current condit besid headach perspir lot uncomfort nausea muscl ach',\n",
       " 'strong itchi chill nausea high fever part current condit addit headach perspir lot suffer nausea well muscl ach',\n",
       " 'experienc intens itch chill vomit high fever also sweat lot headach nausea muscl pain make feel miser',\n",
       " 'intens scratch chill nausea high temperatur plagu also headach perspir lot terribl nausea sore muscl',\n",
       " 'along high fever chill vomit sever itch besid headach also perspir lot terribl nausea muscl ach',\n",
       " 'along high fever chill vomit sever itch along headach excess sweat feel aw nausea muscl ach',\n",
       " 'sever itch chill vomit high fever also sweat excess headach nausea muscl pain also caus lot discomfort',\n",
       " 'frequent urg urin littl output pain urin cloudi bloodi urin strong foul smell urin pelvic pain low fever nausea vomit',\n",
       " 'get frequent urg urin night littl output lot pain urin urin coludi bloodi sometim foul smell get nauseou',\n",
       " 'get burn sensat pee sometim lot pain foul smell urin get urg urin night',\n",
       " 'get blood pee sometim get nauseou pee often almost coincid high temperatur',\n",
       " 'pee look cloudi storng foul smell frequent get urg urin night get high temperatur sinc symptom strted show',\n",
       " 'pain abdomen often get feverish sudden strong urg pee pain almost constant often increas night time pee almost alway foul smell',\n",
       " 'frequent get sudden strong urg pee blood pee sometim foul smell think infect',\n",
       " 'get blood pee sometim sometim get nauseou whie pee also bad smell pee sometim get high temperatur night help',\n",
       " 'pain lower abdomen get bure sensat pee also get low temperatur sinc start get symptom weak',\n",
       " 'blood urin low fever head hurt almost time get strong uncontrol urg pee pain lower back also',\n",
       " 'low temperatur bloodi pee sinc day head hurt like crazi pee also smell foul almost control pee get sudden urg',\n",
       " 'pain near pelvic region vomit lot sometim blood pee almost foul smell urin sometim get headch troubl sleep due',\n",
       " 'constantli go bathroom reliev cant seem empti bladder get strong uncontrol urg pee sometim get dark bloodi pee',\n",
       " 'low temperatu foul smell pee area near kidney hurt lot cant seem hold pee often get uncontrol urg',\n",
       " 'go bathroom time urin output low often drop stomach hurt lot cant seem abl control urg pee',\n",
       " 'pee dark often bloodi often unfathom smell temperatur fluctuat pretti frequent often abl sleep night',\n",
       " 'pain bladder get',\n",
       " 'urin blood occasion feel queasi urin frequent almost fever time',\n",
       " 'pee strong unpleas scent hazi appear sinc symptom start appear regularli feel desir urin night experienc high temperatur',\n",
       " 'stomach hurt frequent acquir temperatur experi sudden intens crave urin discomfort virtual alway frequent get wors night pee nearli alway smell bad',\n",
       " 'experienc frequent intens abrupt crave urin sometim get blood pee smell aw believ infect',\n",
       " 'occasion urin blood occasion feel queasi help also occasion get high temp night terribl odour come pee',\n",
       " 'lower abdomin ach burst sensat urin sinc began experi addit symptom also experienc low bodi temperatur weak result',\n",
       " 'mild temperatur blood pee head hurt almost constantli frequent experi sever involuntari desir urin addit experienc lower back ach',\n",
       " 'sinc day ago experienc low temperatur bloodi urin head excruci pain urin smell aw hardli control urin impuls come suddenli',\n",
       " 'frequent vomit get discomfort pelvic area urin occasion smell almost unbear bad occasion blood headach time problem fall asleep',\n",
       " 'use restroom frequent reliev seem get bladder empti occasion get sever uncontrol desir urin well black crimson urin',\n",
       " 'experienc realli low mood bad urin odour seem keep urin back area near kidney hurt lot frequent experi irrat crave',\n",
       " 'use restroom frequent yet drop pee usual produc stomach ach lot seem control desir urin',\n",
       " 'urin frequent black red realli strang odour experienc temperatur chang regularli usual prevent sleep night',\n",
       " 'blood found urin sometim nausea urin regularli feel like almost feverish',\n",
       " 'pee smell strongli cloudi appear high temperatur regular urg urin night sinc symptom first materialis',\n",
       " 'frequent strong sudden urg urin occasion urin blood stench horribl ought think infect',\n",
       " 'rare occas pee blood mild nausea help also occasion experi high nighttim temperatur dread urin odour',\n",
       " 'lower abdomen hurt urin feel like explod low bodi temp ever sinc start new symptom weak',\n",
       " 'blood pee low bodi temperatur practic continu headach often strong uncontrol need urin addit start lower back pain',\n",
       " 'low temp bloodi urin past four day pee smell terribl head hurt like hell scarc control urin urg strike without warn',\n",
       " 'regularli vomit get pelvic pain occasion blood pee occasion absolut intoler odour occasion troubl fall asleep migrain',\n",
       " 'need reliev regularli seem get bladder empti sometim get intens uncontrol urg urin along dark red urin',\n",
       " 'spirit incred low pee smell aw kidney region hurt lot seem hold urin get unreason urg time',\n",
       " 'go bathroom lot gener drop urin come sever stomach pain overwhelm want urin',\n",
       " 'urin often weird odour crimson black colour bodi temperatur fluctuat often typic keep night',\n",
       " 'notic blood urin occasion feel sick urin frequent feel though fever',\n",
       " 'pee strong odour hazi look sinc symptom start high temperatur frequent nighttim urg urin',\n",
       " 'occasion urin blood feel littl queasi help also occasion get horribl pee odour excess overnight temp',\n",
       " 'lower abdomen ach feel like may explod urin sinc began experienc new symptom bodi temperatur consist low weak',\n",
       " 'last four day experienc low temperatur blood pee head hurt much urin smell aw desir urin seldom come cue hardli ever control',\n",
       " 'pee frequent odd smell either red black frequent chang bodi temperatur usual keep awak night',\n",
       " 'pee smell strongli seem cloudi fever frequent overnight urin need ever sinc symptom began',\n",
       " 'low temp blood urin past three day pee smell terribl head hurt much urinari urg seldom occur cue almost never control',\n",
       " 'runni nose sneez time eye itchi often wateri cough time head hurt time',\n",
       " 'sore throat sneez time sometim swell face like lip near eye cant stop sneez start sneez',\n",
       " 'hace difficulti breeth short breath cough uncontrol get itchi eye swell face bodi part',\n",
       " 'nasal congest block nose sometim night chest pain tight also lost sens smell tast',\n",
       " 'asthma like symptom like wheez difficulti breath often get fever headach feel tire time',\n",
       " 'feel tire time lost tast realli sore throat also get feverish often muscl ach sometim whole bodi cramp',\n",
       " 'experienc loss appetit difficulti swallow food suffer sore throat runnni nose also',\n",
       " 'feel fatigu time tingl sensat throat also develop flaki skin sometim get puffi eye sometim puff',\n",
       " 'stomach cramp nausea diarrhea throat swollen difficulti breath sometim night night get chest pain nauseou',\n",
       " 'itchi red skin sometim result flake face lip puff caus lot inconvini get wateri eye sometim headch puf get sever',\n",
       " 'often sneez runni nose eye scratchi frequent runni frequent cough head hurt constantli',\n",
       " 'often sneez sore throat lip area around eye occasion swell start sneez stop',\n",
       " 'troubl breath get short breath dri hack cough itchi eye swell face bodi',\n",
       " 'plug nose nasal congest occasion stiff chest discomfort night also lost abil tast smell',\n",
       " 'get symptom asthma wheez breath problem frequent headach fever time feel exhaust',\n",
       " 'alway feel exhaust bad tast extrem scratchi throat also muscular pain heat entir bodi simpli cramp occasion',\n",
       " 'lose appetit also troubl swallow nose run sore throat',\n",
       " 'alway worn experienc tingl throat also start dri skin eye occasion swell',\n",
       " 'feel queasi nauseou dizzi swell throat breath issu occasion chest discomfort nausea night',\n",
       " 'skin red scratchi occasion flake cheek lip swell realli annoy occasion headach runni eye puf',\n",
       " 'frequent sneez nose run constantli cough eye sore wateri head hurt time',\n",
       " 'sore throat frequent sneez sometim skin around eye lip swell stop sneez get go',\n",
       " 'respiratori issu experi breathless face torso swollen eye itch dri hack cough',\n",
       " 'nasal congest block nose occas night stiff chest pain addit lost sens tast smell',\n",
       " 'get breath issu wheez asthma symptom regularli fever headach constantli feel worn',\n",
       " 'alway feel worn unpleas tast mouth realli itchi throat muscl also hot hurt sometim whole bodi cramp',\n",
       " 'along lose appetit swallow issu sore throat nose run',\n",
       " 'alway feel exhaust tickl throat skin also start feel dri occasion get ocular swell',\n",
       " 'dizzi nauseat shaki troubl breath sinc throat swollen occas throughout night chest hurt feel sick',\n",
       " 'skin irrit inflam sometim flake lip cheek expand realli unpleas puf occasion headach wet eye',\n",
       " 'nose run sneez lot eye wet hurt cough time head ach constantli',\n",
       " 'sneez lot sore throat lip skin surround eye occasion swell start stop sneez',\n",
       " 'breath problem becom breath easili eye ach dri hack cough face bodi bloat',\n",
       " 'plug nose nasal congest occasion stiff chest discomfort night also lost abil smell tast',\n",
       " 'get wheez breath difficulti asthma symptom frequent headach fever continu exhaust',\n",
       " 'alway feel exhaust bad tast mouth throat itch lot also heat pain muscl entir bodi cramp time',\n",
       " 'lose appetit troubl swallow nose run sore throat',\n",
       " 'alway get tickl throat feel fatigu skin begun feel dri well ocular edema occas',\n",
       " 'feel queasi sick wobbl throat enlarg make difficult breath chest occasion pain night occasion feel ill',\n",
       " 'skin swollen itchi may occasion flake hurt lot cheek lip swell occasion get headach wateri eye puf',\n",
       " 'sneez lot nose run eye ach damp frequent croak head hurt time',\n",
       " 'sore throat lot sneez time skin around eye lip swell find start cannot stop',\n",
       " 'troubl breath easili get breath face torso swollen eye hurt dri hack cough',\n",
       " 'nasal congest block nose occas night stiff chest pain also lost sens tast smell',\n",
       " 'get breath issu wheez asthma symptom regularli fever headach alway worn',\n",
       " 'frequent exhaust terribl tast mouth throat itchi muscl also burn uncomfort sometim cramp throughout bodi',\n",
       " 'appetit decreas swallow issu sore throat nose run',\n",
       " 'throat alway tickl worn addit skin start feel dri ocular inflamm occasion affect',\n",
       " 'nauseou ill shaki huge throat make tough breath occasion nighttim chest ach occasion sick',\n",
       " 'skin itch swollen sometim could flake lip cheek swell ach lot puf occasion give headach runni eye',\n",
       " 'often get aburn sensat throat especi eat sometim also leav sour bitter tast mouth get nauseo beacus',\n",
       " 'heartburn indigest often vomit whatev eat difficultli swallow food beacus food get stuck throat nag pain upper abdomen',\n",
       " 'frequent belch burp chest pain often radiat back neck jaw arm get feel tight pressur chest',\n",
       " 'persist sour tast mouth even eaten anyth acid get frequent hiccup feel lump throat',\n",
       " 'chronic bad breath sour tast mouth sometim get difficult swallow food tingl sensat throat',\n",
       " 'get frequent heartburn indigest especi eat spici food fatti food get chest pain get wors lie bend also often chest pain',\n",
       " 'loss appetit difficulti swallow often persist feel full even eat small meal usual throw get heartburn tingl sensat throat',\n",
       " 'sore throat hoars especi morn chronic nag pain throat bad breath also frequent belch',\n",
       " 'feel food acid back throat chest pain get wors lie get frequent heartburn indigest eat food vomit',\n",
       " 'feel uneasi eat usual vomit whatev eaten alway pain abdomen realli bad acid reflux',\n",
       " 'throat frequent feel like burn especi eat addit occasion get sour bitter aftertast caus feel queasi',\n",
       " 'indigest heartburn frequent vomit everyth eat troubl swallow food get caught throat upper abdomen bother',\n",
       " 'burp belch frequent frequent get chest discomfort spread back neck jaw arm pressur tension chest',\n",
       " 'even anyth acid stomach constantli sour tast mouth frequent hiccup lump throat',\n",
       " 'alway foul breath sour tast mouth occasion tingl throat make difficult swallow meal',\n",
       " 'frequent heartburn indigest particularli consum spici fatti food lie stoop chest discomfort worsen chest hurt quit bit',\n",
       " 'feel like eat swallow challeng even eat littl meal frequent get linger sens full typic heartburn nausea tingl throat',\n",
       " 'often wake sore throat scratchi voic throat hurt constantli also poor breath also frequent burp',\n",
       " 'feel though acid food back throat chest hurt lie make wors eat frequent heartburn indigest throw',\n",
       " 'eat get queasi frequent throw everyth eaten alway get sever abdomin ach terribl acid reflux',\n",
       " 'especi eat throat regularli feel like burn also occasion get bitter sour aftertast make feel sick',\n",
       " 'heartburn indigest regularli vomit everyth eat food get stuck throat make difficult swallow pain upper abdomen',\n",
       " 'belch burp common often get chest pain radiat back neck jaw arm chest pressur stress',\n",
       " 'get sour tast mouth time even noth acid stomach often get hiccup lump throat',\n",
       " 'period find challeng swallow food due tingl throat bad breath bad tast mouth',\n",
       " 'regularli indigest heartburn especi eat spici fatti food chest pain wors hunch lie addit chest hurt lot',\n",
       " 'mood eat swallow difficult often linger feel full even littl meal typic symptom includ heartburn nausea throat tingl',\n",
       " 'frequent get scratchi voic pain throat wake bad breath continu sore throat also vomit lot',\n",
       " 'throat feel though food acid back lie make chest pain regularli heartburn indigest eat puke',\n",
       " 'often feel sick eat puke entir meal constantli get excruci acid reflux sever stomach pain',\n",
       " 'throat often feel like burn especi eat bitter sour aftertast occasion experi also make feel unwel',\n",
       " 'indigest heartburn frequent vomit everyth eat hard swallow sinc food get caught throat upper abdomen discomfort',\n",
       " 'tendenc belch burp frequent frequent get chest pain spread arm jaw back neck pressur stress chest',\n",
       " 'even anyth acid stomach constantli sour tast mouth frequent lump throat hiccup',\n",
       " 'period tingl throat poor breath bad tast mouth make difficult swallow meal',\n",
       " 'routin experi heartburn indigest particularli consum spici fatti food lean forward lie chest discomfort becom wors chest hurt lot well',\n",
       " 'feel like eat swallow challeng even littl meal frequent get linger sensat full normal symptom includ nausea heartburn tingl throat',\n",
       " 'regularli wake scratchi voic sore throat throat constantli irrit horribl breath frequent throw',\n",
       " 'feel like food acid back throat chest discomfort becom wors lie eat frequent heartburn indigest throw',\n",
       " 'eat frequent feel unwel throw entir meal suffer pain acid reflux excruci stomach discomfort time',\n",
       " 'especi eat throat frequent feel scorch occasion get bitter sour aftertast make feel sick',\n",
       " 'heartburn indigest regularli throw everyth eat swallow difficult sinc food get stuck throat experienc pain upper abdomen',\n",
       " 'tendenc burp belch regularli often get chest discomfort radiat arm jaw neck chest feel tight stress',\n",
       " 'alway get sour tast mouth even anyth acid stomach regularli hiccup knot throat',\n",
       " 'occasion troubl swallow food tingl throat terribl breath bad tast mouth',\n",
       " ...]"
      ]
     },
     "execution_count": 20,
     "metadata": {},
     "output_type": "execute_result"
    }
   ],
   "source": [
    "corpus"
   ]
  },
  {
   "cell_type": "code",
   "execution_count": 21,
   "id": "5583897e",
   "metadata": {
    "execution": {
     "iopub.execute_input": "2023-06-18T12:29:58.609033Z",
     "iopub.status.busy": "2023-06-18T12:29:58.608593Z",
     "iopub.status.idle": "2023-06-18T12:29:58.616691Z",
     "shell.execute_reply": "2023-06-18T12:29:58.615221Z"
    },
    "papermill": {
     "duration": 0.032774,
     "end_time": "2023-06-18T12:29:58.619178",
     "exception": false,
     "start_time": "2023-06-18T12:29:58.586404",
     "status": "completed"
    },
    "tags": []
   },
   "outputs": [
    {
     "data": {
      "text/plain": [
       "1153"
      ]
     },
     "execution_count": 21,
     "metadata": {},
     "output_type": "execute_result"
    }
   ],
   "source": [
    "len(corpus)"
   ]
  },
  {
   "cell_type": "code",
   "execution_count": 22,
   "id": "58d5167a",
   "metadata": {
    "execution": {
     "iopub.execute_input": "2023-06-18T12:29:58.664087Z",
     "iopub.status.busy": "2023-06-18T12:29:58.663682Z",
     "iopub.status.idle": "2023-06-18T12:29:58.671015Z",
     "shell.execute_reply": "2023-06-18T12:29:58.669702Z"
    },
    "papermill": {
     "duration": 0.032954,
     "end_time": "2023-06-18T12:29:58.673897",
     "exception": false,
     "start_time": "2023-06-18T12:29:58.640943",
     "status": "completed"
    },
    "tags": []
   },
   "outputs": [
    {
     "data": {
      "text/plain": [
       "1153"
      ]
     },
     "execution_count": 22,
     "metadata": {},
     "output_type": "execute_result"
    }
   ],
   "source": [
    "len(data)"
   ]
  },
  {
   "cell_type": "code",
   "execution_count": 23,
   "id": "16caf54e",
   "metadata": {
    "execution": {
     "iopub.execute_input": "2023-06-18T12:29:58.718777Z",
     "iopub.status.busy": "2023-06-18T12:29:58.718340Z",
     "iopub.status.idle": "2023-06-18T12:29:58.726204Z",
     "shell.execute_reply": "2023-06-18T12:29:58.724799Z"
    },
    "papermill": {
     "duration": 0.034459,
     "end_time": "2023-06-18T12:29:58.729106",
     "exception": false,
     "start_time": "2023-06-18T12:29:58.694647",
     "status": "completed"
    },
    "tags": []
   },
   "outputs": [
    {
     "data": {
      "text/plain": [
       "1153"
      ]
     },
     "execution_count": 23,
     "metadata": {},
     "output_type": "execute_result"
    }
   ],
   "source": [
    "len(corpus)"
   ]
  },
  {
   "cell_type": "code",
   "execution_count": 24,
   "id": "6e28d101",
   "metadata": {
    "execution": {
     "iopub.execute_input": "2023-06-18T12:29:58.775347Z",
     "iopub.status.busy": "2023-06-18T12:29:58.774954Z",
     "iopub.status.idle": "2023-06-18T12:29:58.780007Z",
     "shell.execute_reply": "2023-06-18T12:29:58.778591Z"
    },
    "papermill": {
     "duration": 0.031507,
     "end_time": "2023-06-18T12:29:58.782700",
     "exception": false,
     "start_time": "2023-06-18T12:29:58.751193",
     "status": "completed"
    },
    "tags": []
   },
   "outputs": [],
   "source": [
    "# getting dependent and independent features"
   ]
  },
  {
   "cell_type": "code",
   "execution_count": 25,
   "id": "e18235d5",
   "metadata": {
    "execution": {
     "iopub.execute_input": "2023-06-18T12:29:58.828618Z",
     "iopub.status.busy": "2023-06-18T12:29:58.828193Z",
     "iopub.status.idle": "2023-06-18T12:29:58.834219Z",
     "shell.execute_reply": "2023-06-18T12:29:58.832871Z"
    },
    "papermill": {
     "duration": 0.032951,
     "end_time": "2023-06-18T12:29:58.836925",
     "exception": false,
     "start_time": "2023-06-18T12:29:58.803974",
     "status": "completed"
    },
    "tags": []
   },
   "outputs": [],
   "source": [
    "from sklearn.preprocessing import LabelEncoder"
   ]
  },
  {
   "cell_type": "code",
   "execution_count": 26,
   "id": "d947d12f",
   "metadata": {
    "execution": {
     "iopub.execute_input": "2023-06-18T12:29:58.881829Z",
     "iopub.status.busy": "2023-06-18T12:29:58.881377Z",
     "iopub.status.idle": "2023-06-18T12:29:58.887690Z",
     "shell.execute_reply": "2023-06-18T12:29:58.886421Z"
    },
    "papermill": {
     "duration": 0.031877,
     "end_time": "2023-06-18T12:29:58.890360",
     "exception": false,
     "start_time": "2023-06-18T12:29:58.858483",
     "status": "completed"
    },
    "tags": []
   },
   "outputs": [],
   "source": [
    "Le = LabelEncoder()"
   ]
  },
  {
   "cell_type": "code",
   "execution_count": 27,
   "id": "ae71bc61",
   "metadata": {
    "execution": {
     "iopub.execute_input": "2023-06-18T12:29:58.936454Z",
     "iopub.status.busy": "2023-06-18T12:29:58.936046Z",
     "iopub.status.idle": "2023-06-18T12:29:58.943738Z",
     "shell.execute_reply": "2023-06-18T12:29:58.942619Z"
    },
    "papermill": {
     "duration": 0.034782,
     "end_time": "2023-06-18T12:29:58.946599",
     "exception": false,
     "start_time": "2023-06-18T12:29:58.911817",
     "status": "completed"
    },
    "tags": []
   },
   "outputs": [
    {
     "data": {
      "text/plain": [
       "array([15, 15, 15, ..., 19, 19, 19])"
      ]
     },
     "execution_count": 27,
     "metadata": {},
     "output_type": "execute_result"
    }
   ],
   "source": [
    "#Dependenet features\n",
    "y=Le.fit_transform(data['label'])\n",
    "y"
   ]
  },
  {
   "cell_type": "code",
   "execution_count": 28,
   "id": "35ee23b8",
   "metadata": {
    "execution": {
     "iopub.execute_input": "2023-06-18T12:29:58.989310Z",
     "iopub.status.busy": "2023-06-18T12:29:58.988899Z",
     "iopub.status.idle": "2023-06-18T12:29:59.082726Z",
     "shell.execute_reply": "2023-06-18T12:29:59.081227Z"
    },
    "papermill": {
     "duration": 0.119086,
     "end_time": "2023-06-18T12:29:59.085995",
     "exception": false,
     "start_time": "2023-06-18T12:29:58.966909",
     "status": "completed"
    },
    "tags": []
   },
   "outputs": [],
   "source": [
    "data[y] = list(y)"
   ]
  },
  {
   "cell_type": "code",
   "execution_count": 29,
   "id": "a14c2fa0",
   "metadata": {
    "execution": {
     "iopub.execute_input": "2023-06-18T12:29:59.131246Z",
     "iopub.status.busy": "2023-06-18T12:29:59.130817Z",
     "iopub.status.idle": "2023-06-18T12:29:59.162012Z",
     "shell.execute_reply": "2023-06-18T12:29:59.160731Z"
    },
    "papermill": {
     "duration": 0.057338,
     "end_time": "2023-06-18T12:29:59.164771",
     "exception": false,
     "start_time": "2023-06-18T12:29:59.107433",
     "status": "completed"
    },
    "tags": []
   },
   "outputs": [
    {
     "data": {
      "text/html": [
       "<div>\n",
       "<style scoped>\n",
       "    .dataframe tbody tr th:only-of-type {\n",
       "        vertical-align: middle;\n",
       "    }\n",
       "\n",
       "    .dataframe tbody tr th {\n",
       "        vertical-align: top;\n",
       "    }\n",
       "\n",
       "    .dataframe thead th {\n",
       "        text-align: right;\n",
       "    }\n",
       "</style>\n",
       "<table border=\"1\" class=\"dataframe\">\n",
       "  <thead>\n",
       "    <tr style=\"text-align: right;\">\n",
       "      <th></th>\n",
       "      <th>label</th>\n",
       "      <th>text</th>\n",
       "      <th>15</th>\n",
       "      <th>17</th>\n",
       "      <th>16</th>\n",
       "      <th>4</th>\n",
       "      <th>10</th>\n",
       "      <th>6</th>\n",
       "      <th>8</th>\n",
       "      <th>5</th>\n",
       "      <th>...</th>\n",
       "      <th>13</th>\n",
       "      <th>3</th>\n",
       "      <th>11</th>\n",
       "      <th>12</th>\n",
       "      <th>23</th>\n",
       "      <th>18</th>\n",
       "      <th>21</th>\n",
       "      <th>20</th>\n",
       "      <th>22</th>\n",
       "      <th>19</th>\n",
       "    </tr>\n",
       "  </thead>\n",
       "  <tbody>\n",
       "    <tr>\n",
       "      <th>0</th>\n",
       "      <td>Psoriasis</td>\n",
       "      <td>I have been experiencing a skin rash on my arm...</td>\n",
       "      <td>15</td>\n",
       "      <td>17</td>\n",
       "      <td>16</td>\n",
       "      <td>4</td>\n",
       "      <td>10</td>\n",
       "      <td>6</td>\n",
       "      <td>8</td>\n",
       "      <td>5</td>\n",
       "      <td>...</td>\n",
       "      <td>13</td>\n",
       "      <td>3</td>\n",
       "      <td>11</td>\n",
       "      <td>12</td>\n",
       "      <td>23</td>\n",
       "      <td>18</td>\n",
       "      <td>21</td>\n",
       "      <td>20</td>\n",
       "      <td>22</td>\n",
       "      <td>19</td>\n",
       "    </tr>\n",
       "    <tr>\n",
       "      <th>1</th>\n",
       "      <td>Psoriasis</td>\n",
       "      <td>My skin has been peeling, especially on my kne...</td>\n",
       "      <td>15</td>\n",
       "      <td>17</td>\n",
       "      <td>16</td>\n",
       "      <td>4</td>\n",
       "      <td>10</td>\n",
       "      <td>6</td>\n",
       "      <td>8</td>\n",
       "      <td>5</td>\n",
       "      <td>...</td>\n",
       "      <td>13</td>\n",
       "      <td>3</td>\n",
       "      <td>11</td>\n",
       "      <td>12</td>\n",
       "      <td>23</td>\n",
       "      <td>18</td>\n",
       "      <td>21</td>\n",
       "      <td>20</td>\n",
       "      <td>22</td>\n",
       "      <td>19</td>\n",
       "    </tr>\n",
       "    <tr>\n",
       "      <th>2</th>\n",
       "      <td>Psoriasis</td>\n",
       "      <td>I have been experiencing joint pain in my fing...</td>\n",
       "      <td>15</td>\n",
       "      <td>17</td>\n",
       "      <td>16</td>\n",
       "      <td>4</td>\n",
       "      <td>10</td>\n",
       "      <td>6</td>\n",
       "      <td>8</td>\n",
       "      <td>5</td>\n",
       "      <td>...</td>\n",
       "      <td>13</td>\n",
       "      <td>3</td>\n",
       "      <td>11</td>\n",
       "      <td>12</td>\n",
       "      <td>23</td>\n",
       "      <td>18</td>\n",
       "      <td>21</td>\n",
       "      <td>20</td>\n",
       "      <td>22</td>\n",
       "      <td>19</td>\n",
       "    </tr>\n",
       "    <tr>\n",
       "      <th>3</th>\n",
       "      <td>Psoriasis</td>\n",
       "      <td>There is a silver like dusting on my skin, esp...</td>\n",
       "      <td>15</td>\n",
       "      <td>17</td>\n",
       "      <td>16</td>\n",
       "      <td>4</td>\n",
       "      <td>10</td>\n",
       "      <td>6</td>\n",
       "      <td>8</td>\n",
       "      <td>5</td>\n",
       "      <td>...</td>\n",
       "      <td>13</td>\n",
       "      <td>3</td>\n",
       "      <td>11</td>\n",
       "      <td>12</td>\n",
       "      <td>23</td>\n",
       "      <td>18</td>\n",
       "      <td>21</td>\n",
       "      <td>20</td>\n",
       "      <td>22</td>\n",
       "      <td>19</td>\n",
       "    </tr>\n",
       "    <tr>\n",
       "      <th>4</th>\n",
       "      <td>Psoriasis</td>\n",
       "      <td>My nails have small dents or pits in them, and...</td>\n",
       "      <td>15</td>\n",
       "      <td>17</td>\n",
       "      <td>16</td>\n",
       "      <td>4</td>\n",
       "      <td>10</td>\n",
       "      <td>6</td>\n",
       "      <td>8</td>\n",
       "      <td>5</td>\n",
       "      <td>...</td>\n",
       "      <td>13</td>\n",
       "      <td>3</td>\n",
       "      <td>11</td>\n",
       "      <td>12</td>\n",
       "      <td>23</td>\n",
       "      <td>18</td>\n",
       "      <td>21</td>\n",
       "      <td>20</td>\n",
       "      <td>22</td>\n",
       "      <td>19</td>\n",
       "    </tr>\n",
       "    <tr>\n",
       "      <th>...</th>\n",
       "      <td>...</td>\n",
       "      <td>...</td>\n",
       "      <td>...</td>\n",
       "      <td>...</td>\n",
       "      <td>...</td>\n",
       "      <td>...</td>\n",
       "      <td>...</td>\n",
       "      <td>...</td>\n",
       "      <td>...</td>\n",
       "      <td>...</td>\n",
       "      <td>...</td>\n",
       "      <td>...</td>\n",
       "      <td>...</td>\n",
       "      <td>...</td>\n",
       "      <td>...</td>\n",
       "      <td>...</td>\n",
       "      <td>...</td>\n",
       "      <td>...</td>\n",
       "      <td>...</td>\n",
       "      <td>...</td>\n",
       "      <td>...</td>\n",
       "    </tr>\n",
       "    <tr>\n",
       "      <th>1148</th>\n",
       "      <td>diabetes</td>\n",
       "      <td>I'm shaking and trembling all over. I've lost ...</td>\n",
       "      <td>15</td>\n",
       "      <td>17</td>\n",
       "      <td>16</td>\n",
       "      <td>4</td>\n",
       "      <td>10</td>\n",
       "      <td>6</td>\n",
       "      <td>8</td>\n",
       "      <td>5</td>\n",
       "      <td>...</td>\n",
       "      <td>13</td>\n",
       "      <td>3</td>\n",
       "      <td>11</td>\n",
       "      <td>12</td>\n",
       "      <td>23</td>\n",
       "      <td>18</td>\n",
       "      <td>21</td>\n",
       "      <td>20</td>\n",
       "      <td>22</td>\n",
       "      <td>19</td>\n",
       "    </tr>\n",
       "    <tr>\n",
       "      <th>1149</th>\n",
       "      <td>diabetes</td>\n",
       "      <td>Particularly in the crevices of my skin, I hav...</td>\n",
       "      <td>15</td>\n",
       "      <td>17</td>\n",
       "      <td>16</td>\n",
       "      <td>4</td>\n",
       "      <td>10</td>\n",
       "      <td>6</td>\n",
       "      <td>8</td>\n",
       "      <td>5</td>\n",
       "      <td>...</td>\n",
       "      <td>13</td>\n",
       "      <td>3</td>\n",
       "      <td>11</td>\n",
       "      <td>12</td>\n",
       "      <td>23</td>\n",
       "      <td>18</td>\n",
       "      <td>21</td>\n",
       "      <td>20</td>\n",
       "      <td>22</td>\n",
       "      <td>19</td>\n",
       "    </tr>\n",
       "    <tr>\n",
       "      <th>1150</th>\n",
       "      <td>diabetes</td>\n",
       "      <td>I regularly experience these intense urges and...</td>\n",
       "      <td>15</td>\n",
       "      <td>17</td>\n",
       "      <td>16</td>\n",
       "      <td>4</td>\n",
       "      <td>10</td>\n",
       "      <td>6</td>\n",
       "      <td>8</td>\n",
       "      <td>5</td>\n",
       "      <td>...</td>\n",
       "      <td>13</td>\n",
       "      <td>3</td>\n",
       "      <td>11</td>\n",
       "      <td>12</td>\n",
       "      <td>23</td>\n",
       "      <td>18</td>\n",
       "      <td>21</td>\n",
       "      <td>20</td>\n",
       "      <td>22</td>\n",
       "      <td>19</td>\n",
       "    </tr>\n",
       "    <tr>\n",
       "      <th>1151</th>\n",
       "      <td>diabetes</td>\n",
       "      <td>I have trouble breathing, especially outside. ...</td>\n",
       "      <td>15</td>\n",
       "      <td>17</td>\n",
       "      <td>16</td>\n",
       "      <td>4</td>\n",
       "      <td>10</td>\n",
       "      <td>6</td>\n",
       "      <td>8</td>\n",
       "      <td>5</td>\n",
       "      <td>...</td>\n",
       "      <td>13</td>\n",
       "      <td>3</td>\n",
       "      <td>11</td>\n",
       "      <td>12</td>\n",
       "      <td>23</td>\n",
       "      <td>18</td>\n",
       "      <td>21</td>\n",
       "      <td>20</td>\n",
       "      <td>22</td>\n",
       "      <td>19</td>\n",
       "    </tr>\n",
       "    <tr>\n",
       "      <th>1152</th>\n",
       "      <td>diabetes</td>\n",
       "      <td>I constantly sneeze and have a dry cough. My i...</td>\n",
       "      <td>15</td>\n",
       "      <td>17</td>\n",
       "      <td>16</td>\n",
       "      <td>4</td>\n",
       "      <td>10</td>\n",
       "      <td>6</td>\n",
       "      <td>8</td>\n",
       "      <td>5</td>\n",
       "      <td>...</td>\n",
       "      <td>13</td>\n",
       "      <td>3</td>\n",
       "      <td>11</td>\n",
       "      <td>12</td>\n",
       "      <td>23</td>\n",
       "      <td>18</td>\n",
       "      <td>21</td>\n",
       "      <td>20</td>\n",
       "      <td>22</td>\n",
       "      <td>19</td>\n",
       "    </tr>\n",
       "  </tbody>\n",
       "</table>\n",
       "<p>1153 rows × 26 columns</p>\n",
       "</div>"
      ],
      "text/plain": [
       "          label                                               text  15  17  \\\n",
       "0     Psoriasis  I have been experiencing a skin rash on my arm...  15  17   \n",
       "1     Psoriasis  My skin has been peeling, especially on my kne...  15  17   \n",
       "2     Psoriasis  I have been experiencing joint pain in my fing...  15  17   \n",
       "3     Psoriasis  There is a silver like dusting on my skin, esp...  15  17   \n",
       "4     Psoriasis  My nails have small dents or pits in them, and...  15  17   \n",
       "...         ...                                                ...  ..  ..   \n",
       "1148   diabetes  I'm shaking and trembling all over. I've lost ...  15  17   \n",
       "1149   diabetes  Particularly in the crevices of my skin, I hav...  15  17   \n",
       "1150   diabetes  I regularly experience these intense urges and...  15  17   \n",
       "1151   diabetes  I have trouble breathing, especially outside. ...  15  17   \n",
       "1152   diabetes  I constantly sneeze and have a dry cough. My i...  15  17   \n",
       "\n",
       "      16  4  10  6  8  5  ...  13  3  11  12  23  18  21  20  22  19  \n",
       "0     16  4  10  6  8  5  ...  13  3  11  12  23  18  21  20  22  19  \n",
       "1     16  4  10  6  8  5  ...  13  3  11  12  23  18  21  20  22  19  \n",
       "2     16  4  10  6  8  5  ...  13  3  11  12  23  18  21  20  22  19  \n",
       "3     16  4  10  6  8  5  ...  13  3  11  12  23  18  21  20  22  19  \n",
       "4     16  4  10  6  8  5  ...  13  3  11  12  23  18  21  20  22  19  \n",
       "...   .. ..  .. .. .. ..  ...  .. ..  ..  ..  ..  ..  ..  ..  ..  ..  \n",
       "1148  16  4  10  6  8  5  ...  13  3  11  12  23  18  21  20  22  19  \n",
       "1149  16  4  10  6  8  5  ...  13  3  11  12  23  18  21  20  22  19  \n",
       "1150  16  4  10  6  8  5  ...  13  3  11  12  23  18  21  20  22  19  \n",
       "1151  16  4  10  6  8  5  ...  13  3  11  12  23  18  21  20  22  19  \n",
       "1152  16  4  10  6  8  5  ...  13  3  11  12  23  18  21  20  22  19  \n",
       "\n",
       "[1153 rows x 26 columns]"
      ]
     },
     "execution_count": 29,
     "metadata": {},
     "output_type": "execute_result"
    }
   ],
   "source": [
    "data"
   ]
  },
  {
   "cell_type": "code",
   "execution_count": 30,
   "id": "9608efe7",
   "metadata": {
    "execution": {
     "iopub.execute_input": "2023-06-18T12:29:59.210067Z",
     "iopub.status.busy": "2023-06-18T12:29:59.209616Z",
     "iopub.status.idle": "2023-06-18T12:29:59.218187Z",
     "shell.execute_reply": "2023-06-18T12:29:59.216689Z"
    },
    "papermill": {
     "duration": 0.034678,
     "end_time": "2023-06-18T12:29:59.221069",
     "exception": false,
     "start_time": "2023-06-18T12:29:59.186391",
     "status": "completed"
    },
    "tags": []
   },
   "outputs": [
    {
     "data": {
      "text/plain": [
       "1"
      ]
     },
     "execution_count": 30,
     "metadata": {},
     "output_type": "execute_result"
    }
   ],
   "source": [
    "y.ndim"
   ]
  },
  {
   "cell_type": "code",
   "execution_count": 31,
   "id": "fdbb646d",
   "metadata": {
    "execution": {
     "iopub.execute_input": "2023-06-18T12:29:59.268588Z",
     "iopub.status.busy": "2023-06-18T12:29:59.268101Z",
     "iopub.status.idle": "2023-06-18T12:29:59.321621Z",
     "shell.execute_reply": "2023-06-18T12:29:59.320662Z"
    },
    "papermill": {
     "duration": 0.080568,
     "end_time": "2023-06-18T12:29:59.324595",
     "exception": false,
     "start_time": "2023-06-18T12:29:59.244027",
     "status": "completed"
    },
    "tags": []
   },
   "outputs": [],
   "source": [
    "# Creating the Bag of Words model\n",
    "from sklearn.feature_extraction.text import CountVectorizer\n",
    "cv = CountVectorizer(max_features=500, binary=True)\n",
    "X = cv.fit_transform(corpus).toarray()"
   ]
  },
  {
   "cell_type": "code",
   "execution_count": 32,
   "id": "f992f395",
   "metadata": {
    "execution": {
     "iopub.execute_input": "2023-06-18T12:29:59.371707Z",
     "iopub.status.busy": "2023-06-18T12:29:59.370656Z",
     "iopub.status.idle": "2023-06-18T12:29:59.382249Z",
     "shell.execute_reply": "2023-06-18T12:29:59.381199Z"
    },
    "papermill": {
     "duration": 0.038144,
     "end_time": "2023-06-18T12:29:59.385186",
     "exception": false,
     "start_time": "2023-06-18T12:29:59.347042",
     "status": "completed"
    },
    "tags": []
   },
   "outputs": [],
   "source": [
    "\n",
    "from sklearn.model_selection import train_test_split\n",
    "X_train, X_test, y_train, y_test = train_test_split(X, y, test_size = 0.20, random_state = 0)"
   ]
  },
  {
   "cell_type": "code",
   "execution_count": 33,
   "id": "158b55a2",
   "metadata": {
    "execution": {
     "iopub.execute_input": "2023-06-18T12:29:59.432495Z",
     "iopub.status.busy": "2023-06-18T12:29:59.431256Z",
     "iopub.status.idle": "2023-06-18T12:29:59.437015Z",
     "shell.execute_reply": "2023-06-18T12:29:59.435533Z"
    },
    "papermill": {
     "duration": 0.032478,
     "end_time": "2023-06-18T12:29:59.439659",
     "exception": false,
     "start_time": "2023-06-18T12:29:59.407181",
     "status": "completed"
    },
    "tags": []
   },
   "outputs": [],
   "source": [
    "from sklearn.metrics import accuracy_score,classification_report"
   ]
  },
  {
   "cell_type": "code",
   "execution_count": 34,
   "id": "8b32327e",
   "metadata": {
    "execution": {
     "iopub.execute_input": "2023-06-18T12:29:59.487774Z",
     "iopub.status.busy": "2023-06-18T12:29:59.486099Z",
     "iopub.status.idle": "2023-06-18T12:29:59.540866Z",
     "shell.execute_reply": "2023-06-18T12:29:59.539708Z"
    },
    "papermill": {
     "duration": 0.08167,
     "end_time": "2023-06-18T12:29:59.543722",
     "exception": false,
     "start_time": "2023-06-18T12:29:59.462052",
     "status": "completed"
    },
    "tags": []
   },
   "outputs": [],
   "source": [
    "from sklearn.naive_bayes import MultinomialNB\n",
    "S2D = MultinomialNB().fit(X_train, y_train)"
   ]
  },
  {
   "cell_type": "code",
   "execution_count": 35,
   "id": "5640a6d8",
   "metadata": {
    "execution": {
     "iopub.execute_input": "2023-06-18T12:29:59.592239Z",
     "iopub.status.busy": "2023-06-18T12:29:59.591706Z",
     "iopub.status.idle": "2023-06-18T12:29:59.605284Z",
     "shell.execute_reply": "2023-06-18T12:29:59.603242Z"
    },
    "papermill": {
     "duration": 0.045467,
     "end_time": "2023-06-18T12:29:59.611629",
     "exception": false,
     "start_time": "2023-06-18T12:29:59.566162",
     "status": "completed"
    },
    "tags": []
   },
   "outputs": [],
   "source": [
    "#prediction\n",
    "y_pred=S2D.predict(X_test)"
   ]
  },
  {
   "cell_type": "code",
   "execution_count": 36,
   "id": "02d433e6",
   "metadata": {
    "execution": {
     "iopub.execute_input": "2023-06-18T12:29:59.711141Z",
     "iopub.status.busy": "2023-06-18T12:29:59.710186Z",
     "iopub.status.idle": "2023-06-18T12:29:59.726431Z",
     "shell.execute_reply": "2023-06-18T12:29:59.723681Z"
    },
    "papermill": {
     "duration": 0.071733,
     "end_time": "2023-06-18T12:29:59.729884",
     "exception": false,
     "start_time": "2023-06-18T12:29:59.658151",
     "status": "completed"
    },
    "tags": []
   },
   "outputs": [
    {
     "name": "stdout",
     "output_type": "stream",
     "text": [
      "0.961038961038961\n"
     ]
    }
   ],
   "source": [
    "score=accuracy_score(y_test,y_pred)\n",
    "print(score)"
   ]
  },
  {
   "cell_type": "code",
   "execution_count": 37,
   "id": "8d4cdf13",
   "metadata": {
    "execution": {
     "iopub.execute_input": "2023-06-18T12:29:59.791379Z",
     "iopub.status.busy": "2023-06-18T12:29:59.790377Z",
     "iopub.status.idle": "2023-06-18T12:30:00.193805Z",
     "shell.execute_reply": "2023-06-18T12:30:00.192432Z"
    },
    "papermill": {
     "duration": 0.438471,
     "end_time": "2023-06-18T12:30:00.196928",
     "exception": false,
     "start_time": "2023-06-18T12:29:59.758457",
     "status": "completed"
    },
    "tags": []
   },
   "outputs": [],
   "source": [
    "from sklearn.ensemble import RandomForestClassifier\n",
    "rfc = RandomForestClassifier()"
   ]
  },
  {
   "cell_type": "code",
   "execution_count": 38,
   "id": "6a035407",
   "metadata": {
    "execution": {
     "iopub.execute_input": "2023-06-18T12:30:00.251802Z",
     "iopub.status.busy": "2023-06-18T12:30:00.251009Z",
     "iopub.status.idle": "2023-06-18T12:30:00.775640Z",
     "shell.execute_reply": "2023-06-18T12:30:00.774359Z"
    },
    "papermill": {
     "duration": 0.555855,
     "end_time": "2023-06-18T12:30:00.778406",
     "exception": false,
     "start_time": "2023-06-18T12:30:00.222551",
     "status": "completed"
    },
    "tags": []
   },
   "outputs": [
    {
     "data": {
      "text/html": [
       "<style>#sk-container-id-1 {color: black;background-color: white;}#sk-container-id-1 pre{padding: 0;}#sk-container-id-1 div.sk-toggleable {background-color: white;}#sk-container-id-1 label.sk-toggleable__label {cursor: pointer;display: block;width: 100%;margin-bottom: 0;padding: 0.3em;box-sizing: border-box;text-align: center;}#sk-container-id-1 label.sk-toggleable__label-arrow:before {content: \"▸\";float: left;margin-right: 0.25em;color: #696969;}#sk-container-id-1 label.sk-toggleable__label-arrow:hover:before {color: black;}#sk-container-id-1 div.sk-estimator:hover label.sk-toggleable__label-arrow:before {color: black;}#sk-container-id-1 div.sk-toggleable__content {max-height: 0;max-width: 0;overflow: hidden;text-align: left;background-color: #f0f8ff;}#sk-container-id-1 div.sk-toggleable__content pre {margin: 0.2em;color: black;border-radius: 0.25em;background-color: #f0f8ff;}#sk-container-id-1 input.sk-toggleable__control:checked~div.sk-toggleable__content {max-height: 200px;max-width: 100%;overflow: auto;}#sk-container-id-1 input.sk-toggleable__control:checked~label.sk-toggleable__label-arrow:before {content: \"▾\";}#sk-container-id-1 div.sk-estimator input.sk-toggleable__control:checked~label.sk-toggleable__label {background-color: #d4ebff;}#sk-container-id-1 div.sk-label input.sk-toggleable__control:checked~label.sk-toggleable__label {background-color: #d4ebff;}#sk-container-id-1 input.sk-hidden--visually {border: 0;clip: rect(1px 1px 1px 1px);clip: rect(1px, 1px, 1px, 1px);height: 1px;margin: -1px;overflow: hidden;padding: 0;position: absolute;width: 1px;}#sk-container-id-1 div.sk-estimator {font-family: monospace;background-color: #f0f8ff;border: 1px dotted black;border-radius: 0.25em;box-sizing: border-box;margin-bottom: 0.5em;}#sk-container-id-1 div.sk-estimator:hover {background-color: #d4ebff;}#sk-container-id-1 div.sk-parallel-item::after {content: \"\";width: 100%;border-bottom: 1px solid gray;flex-grow: 1;}#sk-container-id-1 div.sk-label:hover label.sk-toggleable__label {background-color: #d4ebff;}#sk-container-id-1 div.sk-serial::before {content: \"\";position: absolute;border-left: 1px solid gray;box-sizing: border-box;top: 0;bottom: 0;left: 50%;z-index: 0;}#sk-container-id-1 div.sk-serial {display: flex;flex-direction: column;align-items: center;background-color: white;padding-right: 0.2em;padding-left: 0.2em;position: relative;}#sk-container-id-1 div.sk-item {position: relative;z-index: 1;}#sk-container-id-1 div.sk-parallel {display: flex;align-items: stretch;justify-content: center;background-color: white;position: relative;}#sk-container-id-1 div.sk-item::before, #sk-container-id-1 div.sk-parallel-item::before {content: \"\";position: absolute;border-left: 1px solid gray;box-sizing: border-box;top: 0;bottom: 0;left: 50%;z-index: -1;}#sk-container-id-1 div.sk-parallel-item {display: flex;flex-direction: column;z-index: 1;position: relative;background-color: white;}#sk-container-id-1 div.sk-parallel-item:first-child::after {align-self: flex-end;width: 50%;}#sk-container-id-1 div.sk-parallel-item:last-child::after {align-self: flex-start;width: 50%;}#sk-container-id-1 div.sk-parallel-item:only-child::after {width: 0;}#sk-container-id-1 div.sk-dashed-wrapped {border: 1px dashed gray;margin: 0 0.4em 0.5em 0.4em;box-sizing: border-box;padding-bottom: 0.4em;background-color: white;}#sk-container-id-1 div.sk-label label {font-family: monospace;font-weight: bold;display: inline-block;line-height: 1.2em;}#sk-container-id-1 div.sk-label-container {text-align: center;}#sk-container-id-1 div.sk-container {/* jupyter's `normalize.less` sets `[hidden] { display: none; }` but bootstrap.min.css set `[hidden] { display: none !important; }` so we also need the `!important` here to be able to override the default hidden behavior on the sphinx rendered scikit-learn.org. See: https://github.com/scikit-learn/scikit-learn/issues/21755 */display: inline-block !important;position: relative;}#sk-container-id-1 div.sk-text-repr-fallback {display: none;}</style><div id=\"sk-container-id-1\" class=\"sk-top-container\"><div class=\"sk-text-repr-fallback\"><pre>RandomForestClassifier()</pre><b>In a Jupyter environment, please rerun this cell to show the HTML representation or trust the notebook. <br />On GitHub, the HTML representation is unable to render, please try loading this page with nbviewer.org.</b></div><div class=\"sk-container\" hidden><div class=\"sk-item\"><div class=\"sk-estimator sk-toggleable\"><input class=\"sk-toggleable__control sk-hidden--visually\" id=\"sk-estimator-id-1\" type=\"checkbox\" checked><label for=\"sk-estimator-id-1\" class=\"sk-toggleable__label sk-toggleable__label-arrow\">RandomForestClassifier</label><div class=\"sk-toggleable__content\"><pre>RandomForestClassifier()</pre></div></div></div></div></div>"
      ],
      "text/plain": [
       "RandomForestClassifier()"
      ]
     },
     "execution_count": 38,
     "metadata": {},
     "output_type": "execute_result"
    }
   ],
   "source": [
    "rfc.fit(X_train,y_train)"
   ]
  },
  {
   "cell_type": "code",
   "execution_count": 39,
   "id": "8f644b4f",
   "metadata": {
    "execution": {
     "iopub.execute_input": "2023-06-18T12:30:00.824378Z",
     "iopub.status.busy": "2023-06-18T12:30:00.823708Z",
     "iopub.status.idle": "2023-06-18T12:30:00.853136Z",
     "shell.execute_reply": "2023-06-18T12:30:00.851463Z"
    },
    "papermill": {
     "duration": 0.056311,
     "end_time": "2023-06-18T12:30:00.856185",
     "exception": false,
     "start_time": "2023-06-18T12:30:00.799874",
     "status": "completed"
    },
    "tags": []
   },
   "outputs": [],
   "source": [
    "rfc_pred = rfc.predict(X_test)"
   ]
  },
  {
   "cell_type": "code",
   "execution_count": 40,
   "id": "30272057",
   "metadata": {
    "execution": {
     "iopub.execute_input": "2023-06-18T12:30:00.902441Z",
     "iopub.status.busy": "2023-06-18T12:30:00.901848Z",
     "iopub.status.idle": "2023-06-18T12:30:00.909917Z",
     "shell.execute_reply": "2023-06-18T12:30:00.908020Z"
    },
    "papermill": {
     "duration": 0.034115,
     "end_time": "2023-06-18T12:30:00.912334",
     "exception": false,
     "start_time": "2023-06-18T12:30:00.878219",
     "status": "completed"
    },
    "tags": []
   },
   "outputs": [
    {
     "name": "stdout",
     "output_type": "stream",
     "text": [
      "0.961038961038961\n"
     ]
    }
   ],
   "source": [
    "score=accuracy_score(y_test,rfc_pred)\n",
    "print(score)"
   ]
  },
  {
   "cell_type": "code",
   "execution_count": 41,
   "id": "ec6ffb43",
   "metadata": {
    "execution": {
     "iopub.execute_input": "2023-06-18T12:30:00.959484Z",
     "iopub.status.busy": "2023-06-18T12:30:00.957939Z",
     "iopub.status.idle": "2023-06-18T12:30:01.093052Z",
     "shell.execute_reply": "2023-06-18T12:30:01.091534Z"
    },
    "papermill": {
     "duration": 0.162573,
     "end_time": "2023-06-18T12:30:01.096469",
     "exception": false,
     "start_time": "2023-06-18T12:30:00.933896",
     "status": "completed"
    },
    "tags": []
   },
   "outputs": [],
   "source": [
    "# Creating the TFIDF model\n",
    "from sklearn.feature_extraction.text import TfidfVectorizer\n",
    "tv = TfidfVectorizer(max_features=2500, ngram_range=(1,2))\n",
    "X = tv.fit_transform(corpus).toarray()"
   ]
  },
  {
   "cell_type": "code",
   "execution_count": 42,
   "id": "a5829fad",
   "metadata": {
    "execution": {
     "iopub.execute_input": "2023-06-18T12:30:01.145974Z",
     "iopub.status.busy": "2023-06-18T12:30:01.145503Z",
     "iopub.status.idle": "2023-06-18T12:30:01.165392Z",
     "shell.execute_reply": "2023-06-18T12:30:01.163945Z"
    },
    "papermill": {
     "duration": 0.049517,
     "end_time": "2023-06-18T12:30:01.169537",
     "exception": false,
     "start_time": "2023-06-18T12:30:01.120020",
     "status": "completed"
    },
    "tags": []
   },
   "outputs": [],
   "source": [
    "# Train Test Split\n",
    "\n",
    "from sklearn.model_selection import train_test_split\n",
    "X_train, X_test, y_train, y_test = train_test_split(X, y, test_size = 0.20, random_state = 0)"
   ]
  },
  {
   "cell_type": "code",
   "execution_count": 43,
   "id": "2091a1d1",
   "metadata": {
    "execution": {
     "iopub.execute_input": "2023-06-18T12:30:01.223556Z",
     "iopub.status.busy": "2023-06-18T12:30:01.222804Z",
     "iopub.status.idle": "2023-06-18T12:30:01.229289Z",
     "shell.execute_reply": "2023-06-18T12:30:01.227718Z"
    },
    "papermill": {
     "duration": 0.036879,
     "end_time": "2023-06-18T12:30:01.232295",
     "exception": false,
     "start_time": "2023-06-18T12:30:01.195416",
     "status": "completed"
    },
    "tags": []
   },
   "outputs": [],
   "source": [
    "from sklearn.ensemble import RandomForestClassifier\n",
    "rfc = RandomForestClassifier()"
   ]
  },
  {
   "cell_type": "code",
   "execution_count": 44,
   "id": "59bcee2d",
   "metadata": {
    "execution": {
     "iopub.execute_input": "2023-06-18T12:30:01.285550Z",
     "iopub.status.busy": "2023-06-18T12:30:01.285036Z",
     "iopub.status.idle": "2023-06-18T12:30:02.185504Z",
     "shell.execute_reply": "2023-06-18T12:30:02.184036Z"
    },
    "papermill": {
     "duration": 0.930466,
     "end_time": "2023-06-18T12:30:02.188192",
     "exception": false,
     "start_time": "2023-06-18T12:30:01.257726",
     "status": "completed"
    },
    "tags": []
   },
   "outputs": [
    {
     "data": {
      "text/html": [
       "<style>#sk-container-id-2 {color: black;background-color: white;}#sk-container-id-2 pre{padding: 0;}#sk-container-id-2 div.sk-toggleable {background-color: white;}#sk-container-id-2 label.sk-toggleable__label {cursor: pointer;display: block;width: 100%;margin-bottom: 0;padding: 0.3em;box-sizing: border-box;text-align: center;}#sk-container-id-2 label.sk-toggleable__label-arrow:before {content: \"▸\";float: left;margin-right: 0.25em;color: #696969;}#sk-container-id-2 label.sk-toggleable__label-arrow:hover:before {color: black;}#sk-container-id-2 div.sk-estimator:hover label.sk-toggleable__label-arrow:before {color: black;}#sk-container-id-2 div.sk-toggleable__content {max-height: 0;max-width: 0;overflow: hidden;text-align: left;background-color: #f0f8ff;}#sk-container-id-2 div.sk-toggleable__content pre {margin: 0.2em;color: black;border-radius: 0.25em;background-color: #f0f8ff;}#sk-container-id-2 input.sk-toggleable__control:checked~div.sk-toggleable__content {max-height: 200px;max-width: 100%;overflow: auto;}#sk-container-id-2 input.sk-toggleable__control:checked~label.sk-toggleable__label-arrow:before {content: \"▾\";}#sk-container-id-2 div.sk-estimator input.sk-toggleable__control:checked~label.sk-toggleable__label {background-color: #d4ebff;}#sk-container-id-2 div.sk-label input.sk-toggleable__control:checked~label.sk-toggleable__label {background-color: #d4ebff;}#sk-container-id-2 input.sk-hidden--visually {border: 0;clip: rect(1px 1px 1px 1px);clip: rect(1px, 1px, 1px, 1px);height: 1px;margin: -1px;overflow: hidden;padding: 0;position: absolute;width: 1px;}#sk-container-id-2 div.sk-estimator {font-family: monospace;background-color: #f0f8ff;border: 1px dotted black;border-radius: 0.25em;box-sizing: border-box;margin-bottom: 0.5em;}#sk-container-id-2 div.sk-estimator:hover {background-color: #d4ebff;}#sk-container-id-2 div.sk-parallel-item::after {content: \"\";width: 100%;border-bottom: 1px solid gray;flex-grow: 1;}#sk-container-id-2 div.sk-label:hover label.sk-toggleable__label {background-color: #d4ebff;}#sk-container-id-2 div.sk-serial::before {content: \"\";position: absolute;border-left: 1px solid gray;box-sizing: border-box;top: 0;bottom: 0;left: 50%;z-index: 0;}#sk-container-id-2 div.sk-serial {display: flex;flex-direction: column;align-items: center;background-color: white;padding-right: 0.2em;padding-left: 0.2em;position: relative;}#sk-container-id-2 div.sk-item {position: relative;z-index: 1;}#sk-container-id-2 div.sk-parallel {display: flex;align-items: stretch;justify-content: center;background-color: white;position: relative;}#sk-container-id-2 div.sk-item::before, #sk-container-id-2 div.sk-parallel-item::before {content: \"\";position: absolute;border-left: 1px solid gray;box-sizing: border-box;top: 0;bottom: 0;left: 50%;z-index: -1;}#sk-container-id-2 div.sk-parallel-item {display: flex;flex-direction: column;z-index: 1;position: relative;background-color: white;}#sk-container-id-2 div.sk-parallel-item:first-child::after {align-self: flex-end;width: 50%;}#sk-container-id-2 div.sk-parallel-item:last-child::after {align-self: flex-start;width: 50%;}#sk-container-id-2 div.sk-parallel-item:only-child::after {width: 0;}#sk-container-id-2 div.sk-dashed-wrapped {border: 1px dashed gray;margin: 0 0.4em 0.5em 0.4em;box-sizing: border-box;padding-bottom: 0.4em;background-color: white;}#sk-container-id-2 div.sk-label label {font-family: monospace;font-weight: bold;display: inline-block;line-height: 1.2em;}#sk-container-id-2 div.sk-label-container {text-align: center;}#sk-container-id-2 div.sk-container {/* jupyter's `normalize.less` sets `[hidden] { display: none; }` but bootstrap.min.css set `[hidden] { display: none !important; }` so we also need the `!important` here to be able to override the default hidden behavior on the sphinx rendered scikit-learn.org. See: https://github.com/scikit-learn/scikit-learn/issues/21755 */display: inline-block !important;position: relative;}#sk-container-id-2 div.sk-text-repr-fallback {display: none;}</style><div id=\"sk-container-id-2\" class=\"sk-top-container\"><div class=\"sk-text-repr-fallback\"><pre>RandomForestClassifier()</pre><b>In a Jupyter environment, please rerun this cell to show the HTML representation or trust the notebook. <br />On GitHub, the HTML representation is unable to render, please try loading this page with nbviewer.org.</b></div><div class=\"sk-container\" hidden><div class=\"sk-item\"><div class=\"sk-estimator sk-toggleable\"><input class=\"sk-toggleable__control sk-hidden--visually\" id=\"sk-estimator-id-2\" type=\"checkbox\" checked><label for=\"sk-estimator-id-2\" class=\"sk-toggleable__label sk-toggleable__label-arrow\">RandomForestClassifier</label><div class=\"sk-toggleable__content\"><pre>RandomForestClassifier()</pre></div></div></div></div></div>"
      ],
      "text/plain": [
       "RandomForestClassifier()"
      ]
     },
     "execution_count": 44,
     "metadata": {},
     "output_type": "execute_result"
    }
   ],
   "source": [
    "rfc.fit(X_train,y_train)"
   ]
  },
  {
   "cell_type": "code",
   "execution_count": 45,
   "id": "f1a385a1",
   "metadata": {
    "execution": {
     "iopub.execute_input": "2023-06-18T12:30:02.234350Z",
     "iopub.status.busy": "2023-06-18T12:30:02.233917Z",
     "iopub.status.idle": "2023-06-18T12:30:02.268411Z",
     "shell.execute_reply": "2023-06-18T12:30:02.267037Z"
    },
    "papermill": {
     "duration": 0.060895,
     "end_time": "2023-06-18T12:30:02.271336",
     "exception": false,
     "start_time": "2023-06-18T12:30:02.210441",
     "status": "completed"
    },
    "tags": []
   },
   "outputs": [],
   "source": [
    "rfc_pred = rfc.predict(X_test)"
   ]
  },
  {
   "cell_type": "code",
   "execution_count": 46,
   "id": "f750c126",
   "metadata": {
    "execution": {
     "iopub.execute_input": "2023-06-18T12:30:02.317725Z",
     "iopub.status.busy": "2023-06-18T12:30:02.317322Z",
     "iopub.status.idle": "2023-06-18T12:30:02.324553Z",
     "shell.execute_reply": "2023-06-18T12:30:02.323392Z"
    },
    "papermill": {
     "duration": 0.034021,
     "end_time": "2023-06-18T12:30:02.327525",
     "exception": false,
     "start_time": "2023-06-18T12:30:02.293504",
     "status": "completed"
    },
    "tags": []
   },
   "outputs": [
    {
     "name": "stdout",
     "output_type": "stream",
     "text": [
      "0.9696969696969697\n"
     ]
    }
   ],
   "source": [
    "score=accuracy_score(y_test,rfc_pred)\n",
    "print(score)"
   ]
  },
  {
   "cell_type": "code",
   "execution_count": 47,
   "id": "cddb545e",
   "metadata": {
    "execution": {
     "iopub.execute_input": "2023-06-18T12:30:02.374201Z",
     "iopub.status.busy": "2023-06-18T12:30:02.373721Z",
     "iopub.status.idle": "2023-06-18T12:30:02.391884Z",
     "shell.execute_reply": "2023-06-18T12:30:02.389523Z"
    },
    "papermill": {
     "duration": 0.045014,
     "end_time": "2023-06-18T12:30:02.394712",
     "exception": false,
     "start_time": "2023-06-18T12:30:02.349698",
     "status": "completed"
    },
    "tags": []
   },
   "outputs": [
    {
     "name": "stdout",
     "output_type": "stream",
     "text": [
      "              precision    recall  f1-score   support\n",
      "\n",
      "           0       1.00      1.00      1.00         8\n",
      "           1       1.00      1.00      1.00        11\n",
      "           2       1.00      0.88      0.93         8\n",
      "           3       1.00      1.00      1.00        15\n",
      "           4       1.00      0.78      0.88         9\n",
      "           5       0.86      1.00      0.92         6\n",
      "           6       0.90      1.00      0.95         9\n",
      "           7       1.00      1.00      1.00        15\n",
      "           8       1.00      1.00      1.00        10\n",
      "           9       1.00      1.00      1.00        16\n",
      "          10       1.00      1.00      1.00         6\n",
      "          11       1.00      1.00      1.00         7\n",
      "          12       1.00      1.00      1.00         6\n",
      "          13       1.00      1.00      1.00         9\n",
      "          14       0.89      0.73      0.80        11\n",
      "          15       1.00      1.00      1.00        11\n",
      "          16       1.00      1.00      1.00         4\n",
      "          17       0.90      1.00      0.95         9\n",
      "          18       0.82      1.00      0.90         9\n",
      "          19       1.00      0.78      0.88         9\n",
      "          20       0.75      1.00      0.86         9\n",
      "          21       1.00      0.91      0.95        11\n",
      "          22       1.00      1.00      1.00        13\n",
      "          23       1.00      1.00      1.00        10\n",
      "\n",
      "    accuracy                           0.96       231\n",
      "   macro avg       0.96      0.96      0.96       231\n",
      "weighted avg       0.97      0.96      0.96       231\n",
      "\n"
     ]
    }
   ],
   "source": [
    "from sklearn.metrics import classification_report\n",
    "print(classification_report(y_pred,y_test))"
   ]
  },
  {
   "cell_type": "code",
   "execution_count": null,
   "id": "a5d55336",
   "metadata": {
    "papermill": {
     "duration": 0.021569,
     "end_time": "2023-06-18T12:30:02.438296",
     "exception": false,
     "start_time": "2023-06-18T12:30:02.416727",
     "status": "completed"
    },
    "tags": []
   },
   "outputs": [],
   "source": []
  }
 ],
 "metadata": {
  "kernelspec": {
   "display_name": "Python 3",
   "language": "python",
   "name": "python3"
  },
  "language_info": {
   "codemirror_mode": {
    "name": "ipython",
    "version": 3
   },
   "file_extension": ".py",
   "mimetype": "text/x-python",
   "name": "python",
   "nbconvert_exporter": "python",
   "pygments_lexer": "ipython3",
   "version": "3.10.10"
  },
  "papermill": {
   "default_parameters": {},
   "duration": 30.408467,
   "end_time": "2023-06-18T12:30:04.094547",
   "environment_variables": {},
   "exception": null,
   "input_path": "__notebook__.ipynb",
   "output_path": "__notebook__.ipynb",
   "parameters": {},
   "start_time": "2023-06-18T12:29:33.686080",
   "version": "2.4.0"
  }
 },
 "nbformat": 4,
 "nbformat_minor": 5
}
